{
 "cells": [
  {
   "cell_type": "markdown",
   "id": "a135f3a8-54b9-4edd-a2ea-b3b1a8987535",
   "metadata": {
    "pycharm": {
     "name": "#%% md\n"
    }
   },
   "source": [
    "# Introduction"
   ]
  },
  {
   "cell_type": "markdown",
   "id": "84cd00f2-1267-4f63-ad46-d2460addf303",
   "metadata": {
    "pycharm": {
     "name": "#%% md\n"
    }
   },
   "source": [
    "This report contains a preliminary automatic analysis of MRD results for one cfDNA sample with one matched signature and potentially a set of control signatures, either from unmatched patients or elsewhere. It characterizes the different signatures in the study in terms of mutation numbers, mutation types (ref&alt bases) and allele fractions, then calculates the tumor fraction for each of the signatures. There is a set of filters applied both to the signatures and to the cfDNA reads (FeatureMap entries), results are shown both with and without those filters.\n",
    "\n",
    "This notebook can also be used as a template for more refined analyses."
   ]
  },
  {
   "cell_type": "code",
   "execution_count": null,
   "id": "7be18dd9-b5b7-4837-baea-0539db97a24e",
   "metadata": {
    "pycharm": {
     "name": "#%%\n"
    },
    "tags": []
   },
   "outputs": [],
   "source": [
    "import os\n",
    "\n",
    "import matplotlib.pyplot as plt\n",
    "import numpy as np\n",
    "import pandas as pd\n",
    "import ugbio_mrd.mrd_utils as mrd"
   ]
  },
  {
   "cell_type": "code",
   "execution_count": null,
   "id": "c094d42e-3e04-4dd0-b7c0-de8bf24dcc8d",
   "metadata": {
    "pycharm": {
     "name": "#%%\n"
    },
    "tags": []
   },
   "outputs": [],
   "source": [
    "from ugbio_core.plotting_utils import set_pyplot_defaults\n",
    "\n",
    "set_pyplot_defaults()\n",
    "%matplotlib inline"
   ]
  },
  {
   "cell_type": "code",
   "execution_count": null,
   "id": "231dac91-4733-408d-8437-fc0c93e5556a",
   "metadata": {
    "pycharm": {
     "name": "#%%\n"
    },
    "tags": [
     "parameters"
    ]
   },
   "outputs": [],
   "source": [
    "# input parameters\n",
    "features_file_parquet = None\n",
    "signatures_file_parquet = None\n",
    "signature_filter_query_default = \"(norm_coverage <= 2.5) and (norm_coverage >= 0.6)\"\n",
    "signature_filter_query = signature_filter_query_default\n",
    "read_filter_query_default = \"qual>=60\"\n",
    "read_filter_query = read_filter_query_default\n",
    "featuremap_df_file = None\n",
    "output_dir = None\n",
    "basename = None"
   ]
  },
  {
   "cell_type": "code",
   "execution_count": null,
   "id": "bf684801-7348-473b-9d28-65e86db9fa54",
   "metadata": {
    "pycharm": {
     "name": "#%%\n"
    }
   },
   "outputs": [],
   "source": [
    "if features_file_parquet is None:\n",
    "    raise ValueError(\"Required input features_file_parquet not provided\")\n",
    "if signatures_file_parquet is None:\n",
    "    raise ValueError(\"Required input signatures_file_parquet not provided\")\n",
    "if featuremap_df_file is None:\n",
    "    raise ValueError(\"Required input featuremap_df_file not provided\")"
   ]
  },
  {
   "cell_type": "code",
   "execution_count": null,
   "id": "cddf922f-3fdb-4a73-a45c-3b411b6c25df",
   "metadata": {
    "pycharm": {
     "name": "#%%\n"
    }
   },
   "outputs": [],
   "source": [
    "# read and filter df_features\n",
    "df_features, df_features_filt, filtering_ratio = mrd.read_and_filter_features_parquet(\n",
    "    features_file_parquet, read_filter_query\n",
    ")"
   ]
  },
  {
   "cell_type": "code",
   "execution_count": null,
   "id": "dad08ac4-609e-4c73-a4df-540f167d63dc",
   "metadata": {
    "pycharm": {
     "name": "#%%\n"
    }
   },
   "outputs": [],
   "source": [
    "# read and filter df_signatures\n",
    "df_signatures, df_signatures_filt = mrd.read_and_filter_signatures_parquet(\n",
    "    signatures_file_parquet, signature_filter_query, filtering_ratio\n",
    ")"
   ]
  },
  {
   "cell_type": "markdown",
   "id": "61e60bf7-d3e7-4aa8-a2ca-ac3580c9cb3c",
   "metadata": {
    "pycharm": {
     "name": "#%% md\n"
    }
   },
   "source": [
    "# Filters applied "
   ]
  },
  {
   "cell_type": "code",
   "execution_count": null,
   "id": "1bd3578c-80e2-4973-844c-65be3019beb8",
   "metadata": {
    "pycharm": {
     "name": "#%%\n"
    }
   },
   "outputs": [],
   "source": [
    "filter_descriptions = {\n",
    "    \"ug_hcr\": \"In UG High Confidence Region\",\n",
    "    \"giab_hcr\": \"In GIAB (HG001-007) High Confidence Region\",\n",
    "    \"not ug_mrd_blacklist\": \"Not in UG MRD Blacklist\",\n",
    "    \"not id\": \"Not in dbsnp\",\n",
    "    \"af\": \"Allele fraction filter\",\n",
    "    \"filtering_ratio\": \"Minimum ratio of read passing read filters in locus\",\n",
    "    \"nunique == 1\": \"Locus only in one signature in this cohort\",\n",
    "    \"norm_coverage\": \"Filtering by coverage, normalized to median\",\n",
    "    \"X_SCORE\": \"Filtering by log likelihood score (effective BQ)\",\n",
    "    \"X_EDIST\": \"Filtering by edit distance from the reference\",\n",
    "    \"max_softclip_len\": \"Filtering by maximal softclip length\",\n",
    "    \"X_LENGTH\": \"Filtering by fragment length\",\n",
    "    \"rq\": \"Filtering by read quality\",\n",
    "    \"qual\": \"Filtering by SNVQ\",\n",
    "}\n",
    "print(\"Filters applied to signature:\")\n",
    "for query_string in signature_filter_query.replace(\"(\", \"\").replace(\")\", \"\").split(\"and\"):\n",
    "    x = query_string.strip()\n",
    "    desc = filter_descriptions.get(x.split(\"<\")[0].split(\">\")[0].strip(), \"<Description unavailable>\")\n",
    "    print(f\"  - {desc}, query='{x}'\")\n",
    "print(\"\\n\\n\")\n",
    "print(\"Filters applied to reads:\")\n",
    "for filter_query in read_filter_query.replace(\"(\", \"\").replace(\")\", \"\").split(\"and\"):\n",
    "    x = filter_query.strip()\n",
    "    desc = filter_descriptions.get(x.split(\"<\")[0].split(\">\")[0].strip(), \"<Description unavailable>\")\n",
    "    print(f\"  - {desc}, query='{x}'\")"
   ]
  },
  {
   "cell_type": "markdown",
   "id": "5323f743-f06e-49fd-8c99-5129eb4b51d4",
   "metadata": {
    "pycharm": {
     "name": "#%% md\n"
    }
   },
   "source": [
    "# Matched signature/s analysis"
   ]
  },
  {
   "cell_type": "markdown",
   "id": "9408e22a-13ce-4831-aa52-044df5cf2da9",
   "metadata": {
    "pycharm": {
     "name": "#%% md\n"
    }
   },
   "source": [
    "## Mutation types"
   ]
  },
  {
   "cell_type": "code",
   "execution_count": null,
   "id": "517056d8-d48a-4570-bab5-00b1a57d1076",
   "metadata": {
    "pycharm": {
     "name": "#%%\n"
    }
   },
   "outputs": [],
   "source": [
    "for plot_signature in df_signatures.query(\"signature_type=='matched'\")[\"signature\"].unique():\n",
    "    mrd.plot_signature_mutation_types(\n",
    "        df_signatures_in=df_signatures.query(f\"signature == '{plot_signature}'\"),\n",
    "        signature_filter_query_in=signature_filter_query,\n",
    "    )"
   ]
  },
  {
   "cell_type": "markdown",
   "id": "237e96c8-0730-42f2-91e4-3a254f37ee10",
   "metadata": {
    "pycharm": {
     "name": "#%% md\n"
    }
   },
   "source": [
    "Mutation type distribution before and after applying signature filters. Generally a reduction in overall number of mutations is expected, but the distribution should be mostly unchanged - significant changes could be an indication of artefacts and warrant looking into the signature data."
   ]
  },
  {
   "cell_type": "markdown",
   "id": "6e3a4e4c-3b17-4d6a-b977-b639d8295db1",
   "metadata": {
    "pycharm": {
     "name": "#%% md\n"
    }
   },
   "source": [
    "## Allele fractions "
   ]
  },
  {
   "cell_type": "code",
   "execution_count": null,
   "id": "363b45eb-570f-44e1-bdba-99622f7f96e3",
   "metadata": {
    "pycharm": {
     "name": "#%%\n"
    }
   },
   "outputs": [],
   "source": [
    "for plot_signature in df_signatures.query(\"signature_type=='matched'\")[\"signature\"].unique():\n",
    "    mrd.plot_signature_allele_fractions(\n",
    "        df_signatures_in=df_signatures.query(f\"signature == '{plot_signature}'\"),\n",
    "        signature_filter_query_in=signature_filter_query,\n",
    "    )"
   ]
  },
  {
   "cell_type": "markdown",
   "id": "a373c4a9-2c2d-4a3b-b747-273a04e9c4c5",
   "metadata": {
    "pycharm": {
     "name": "#%% md\n"
    }
   },
   "source": [
    "Allele fraction distribution before and after applying signature filters. Genrally a reduction in overall number of mutations is expected, and potentially a minimal allele fraction filter is applied. Allele fraction is an indication of the tumor sample purity, typical values in the range 40-50% are considered excellent, 30-40% considered good, 20-30% considered okay and below 20% considered low and might affect the validty of the results."
   ]
  },
  {
   "cell_type": "markdown",
   "id": "8baeb2cd-7917-4dfb-b3d7-2e34e395514c",
   "metadata": {
    "pycharm": {
     "name": "#%% md\n"
    }
   },
   "source": [
    "# Tumor fractions "
   ]
  },
  {
   "cell_type": "markdown",
   "id": "447b7f05",
   "metadata": {},
   "source": [
    "### Tumor fraction denominator\n",
    "Tumor fraction = # reads intersect with signature / # all reads. <br>\n",
    "To account for the query filtering, the denominator is mutiplied by the fraction of reads that pass reads filtering in the SRSNV test set. <br>\n",
    "In case of filtering by QUAL (interpolation of ML_QUAL), the denominator is the fraction of reads with SNVQ > qual_threshold.\n"
   ]
  },
  {
   "cell_type": "code",
   "execution_count": null,
   "id": "db9b2d4c",
   "metadata": {},
   "outputs": [],
   "source": [
    "denom_ratio = pd.read_parquet(featuremap_df_file).query(\"label\").eval(read_filter_query).mean()\n",
    "\n",
    "print(f\"Denominator ratio: {denom_ratio:.2f}\")"
   ]
  },
  {
   "cell_type": "markdown",
   "id": "974cad8f",
   "metadata": {},
   "source": [
    "## Filtered reads, filtered signatures"
   ]
  },
  {
   "cell_type": "code",
   "execution_count": null,
   "id": "c12bfca5-4209-434a-90be-d281dec5f38e",
   "metadata": {
    "pycharm": {
     "name": "#%%\n"
    },
    "tags": []
   },
   "outputs": [],
   "source": [
    "df_tf_filt, df_supporting_reads_per_locus_filt = mrd.get_tf_from_filtered_data(\n",
    "    df_features_filt,\n",
    "    df_signatures_filt,\n",
    "    plot_results=True,\n",
    "    title=\"Filtered reads and signatures\",\n",
    "    denom_ratio=denom_ratio,\n",
    ")\n",
    "display(df_tf_filt)"
   ]
  },
  {
   "cell_type": "markdown",
   "id": "bad13474-65fd-45e7-a2ed-023917b56d63",
   "metadata": {
    "pycharm": {
     "name": "#%% md\n"
    }
   },
   "source": [
    "Tumor fractions measured for the cfDNA sample against the matched signature [red], controls signatures [blue], and database controls [green]. The boxplot shows the distribution of the background and the median value is annotated. Using the background information can aid in determining whether a detected results is statistically significant."
   ]
  },
  {
   "cell_type": "markdown",
   "id": "91832eca-cc39-4df8-afb7-68d8175874a6",
   "metadata": {
    "pycharm": {
     "name": "#%% md\n"
    }
   },
   "source": [
    "## Filtered reads, unfiltered signatures"
   ]
  },
  {
   "cell_type": "code",
   "execution_count": null,
   "id": "057d2f05-acc2-465d-93d3-f0b9ae929903",
   "metadata": {
    "pycharm": {
     "name": "#%%\n"
    }
   },
   "outputs": [],
   "source": [
    "df_tf_unfilt, df_supporting_reads_per_locus_unfilt = mrd.get_tf_from_filtered_data(\n",
    "    df_features_filt,\n",
    "    df_signatures,\n",
    "    plot_results=True,\n",
    "    title=\"Filtered reads and unfiltered signatures\",\n",
    "    denom_ratio=denom_ratio,\n",
    ")\n",
    "display(df_tf_unfilt)"
   ]
  },
  {
   "cell_type": "markdown",
   "id": "1c6cb0f9-aeae-41de-a787-23a5da1b5898",
   "metadata": {
    "pycharm": {
     "name": "#%% md\n"
    }
   },
   "source": [
    "## Unfiltered reads, filtered signatures"
   ]
  },
  {
   "cell_type": "code",
   "execution_count": null,
   "id": "72e5824f-2a99-4cf3-9e07-5e7008d1ec69",
   "metadata": {
    "pycharm": {
     "name": "#%%\n"
    }
   },
   "outputs": [],
   "source": [
    "df_tf_unfilt2, df_supporting_reads_per_locus_unfilt2 = mrd.get_tf_from_filtered_data(\n",
    "    df_features,\n",
    "    df_signatures_filt,\n",
    "    plot_results=True,\n",
    "    title=\"Unfiltered reads and filtered signatures\",\n",
    "    denom_ratio=1,\n",
    ")\n",
    "display(df_tf_unfilt2)"
   ]
  },
  {
   "cell_type": "code",
   "execution_count": null,
   "id": "f6f78741",
   "metadata": {},
   "outputs": [],
   "source": [
    "## Write tf tables to a hdf file\n",
    "output_h5_file = os.path.join(output_dir, basename + \".tumor_fraction.h5\")\n",
    "h5_dict = {\n",
    "    \"df_tf_filt_signature_filt_featuremap\": df_tf_filt,\n",
    "    \"df_tf_unfilt_signature_filt_featuremap\": df_tf_unfilt,\n",
    "    \"df_tf_filt_signature_unfilt_featuremap\": df_tf_unfilt2,\n",
    "    \"df_supporting_reads_per_locus_filt_signature_filt_featuremap\": df_supporting_reads_per_locus_filt,\n",
    "    \"df_supporting_reads_per_locus_unfilt_signature_filt_featuremap\": df_supporting_reads_per_locus_unfilt,\n",
    "    \"df_supporting_reads_per_locus_filt_signature_unfilt_featuremap\": df_supporting_reads_per_locus_unfilt2,\n",
    "}\n",
    "for key, val in h5_dict.items():\n",
    "    val.to_hdf(output_h5_file, key=key, mode=\"a\")"
   ]
  },
  {
   "cell_type": "markdown",
   "id": "0bf28c88",
   "metadata": {},
   "source": [
    "# Allele fractions of plasma-matched and unmeatched variants"
   ]
  },
  {
   "cell_type": "code",
   "execution_count": null,
   "id": "0b4a4447",
   "metadata": {},
   "outputs": [],
   "source": [
    "mrd.plot_vaf_matched_unmatched(df_supporting_reads_per_locus_filt, df_signatures_filt)"
   ]
  },
  {
   "cell_type": "markdown",
   "id": "21dff8a7-eb9c-403e-a37e-4088f146b50a",
   "metadata": {
    "pycharm": {
     "name": "#%% md\n"
    }
   },
   "source": [
    "# Control signature/s analysis"
   ]
  },
  {
   "cell_type": "markdown",
   "id": "d0326999-7502-4f7a-a808-b156fb74f87c",
   "metadata": {
    "pycharm": {
     "name": "#%% md\n"
    }
   },
   "source": [
    "## Mutation types "
   ]
  },
  {
   "cell_type": "code",
   "execution_count": null,
   "id": "7ed2b25f-e191-4348-90eb-6cdc80128b2f",
   "metadata": {
    "pycharm": {
     "name": "#%%\n"
    }
   },
   "outputs": [],
   "source": [
    "for plot_signature in sorted(df_signatures.query(\"signature_type!='matched'\")[\"signature\"].unique()):\n",
    "    try:\n",
    "        mrd.plot_signature_mutation_types(\n",
    "            df_signatures_in=df_signatures.query(f\"signature == '{plot_signature}'\"),\n",
    "            signature_filter_query_in=signature_filter_query,\n",
    "        )\n",
    "    except Exception as e:\n",
    "        print(f\"Exception when plotting for {plot_signature}:\\n{str(e)}\")"
   ]
  },
  {
   "cell_type": "markdown",
   "id": "dd410096-2819-40dc-904e-0662a787c710",
   "metadata": {
    "pycharm": {
     "name": "#%% md\n"
    }
   },
   "source": [
    "## Allele fractions "
   ]
  },
  {
   "cell_type": "code",
   "execution_count": null,
   "id": "2e7f7a05-1492-4812-9d24-cac8b2d174ae",
   "metadata": {
    "pycharm": {
     "name": "#%%\n"
    }
   },
   "outputs": [],
   "source": [
    "for plot_signature in sorted(df_signatures.query(\"signature_type!='matched'\")[\"signature\"].unique()):\n",
    "    try:\n",
    "        mrd.plot_signature_allele_fractions(\n",
    "            df_signatures_in=df_signatures.query(f\"signature == '{plot_signature}'\"),\n",
    "            signature_filter_query_in=signature_filter_query,\n",
    "        )\n",
    "    except Exception as e:\n",
    "        print(f\"Exception when plotting for {plot_signature}:\\n{str(e)}\")"
   ]
  },
  {
   "cell_type": "markdown",
   "id": "ca3e2d58-8c08-49cc-a4e4-2b46cca97d8a",
   "metadata": {
    "pycharm": {
     "name": "#%% md\n"
    }
   },
   "source": [
    "# cfDNA read length distributions "
   ]
  },
  {
   "cell_type": "code",
   "execution_count": null,
   "id": "4a803e46-00bb-4b7a-a288-42401d955a7a",
   "metadata": {
    "pycharm": {
     "name": "#%%\n"
    }
   },
   "outputs": [],
   "source": [
    "fig, axs = plt.subplots(2, 2, figsize=(20, 10), sharex=True)\n",
    "fig.subplots_adjust(hspace=0.4, wspace=0.3)\n",
    "\n",
    "max_value = 0\n",
    "for ax, title, x in zip(\n",
    "    axs.flatten(),\n",
    "    [\n",
    "        \"Matched reads (from tumor)\\nunfiltered\",\n",
    "        \"Matched reads (from tumor)\\nfiltered\",\n",
    "        \"Unmatched reads (not tumor)\\nunfiltered\",\n",
    "        \"Unmatched reads (not tumor)\\nfiltered\",\n",
    "    ],\n",
    "    [\n",
    "        df_features.query(\"signature_type!='matched'\")[\"X_LENGTH\"],\n",
    "        df_features.query(f\"signature_type!='matched' and {read_filter_query}\")[\"X_LENGTH\"],\n",
    "        df_features.query(\"signature_type!='matched'\")[\"X_LENGTH\"],\n",
    "        df_features.query(f\"signature_type!='matched' and {read_filter_query}\")[\"X_LENGTH\"],\n",
    "    ],\n",
    "    strict=False,\n",
    "):\n",
    "    plt.sca(ax)\n",
    "    plt.title(title, y=1.05, fontsize=28)\n",
    "    max_value = max(max_value, x.max())\n",
    "    x.plot.hist(bins=np.arange(0.5, max(250, max_value)))\n",
    "for ax in axs[-1, :]:\n",
    "    ax.set_xlabel(\"Read length\", fontsize=32)"
   ]
  },
  {
   "cell_type": "markdown",
   "id": "53e3be8a-2ad4-43de-a6d3-645c4a6f1251",
   "metadata": {
    "pycharm": {
     "name": "#%% md\n"
    }
   },
   "source": [
    "Distribution of read lengths for cfDNA reads, both matched and unmatched. Not all of the reads are sequenced through, so the longer reads might be limited by read rather than insert length. Differences in the distributions between matched and unmatched reads could be used for more refined filtering of reads."
   ]
  }
 ],
 "metadata": {
  "kernelspec": {
   "display_name": "genomics.py3",
   "language": "python",
   "name": "python3"
  },
  "language_info": {
   "codemirror_mode": {
    "name": "ipython",
    "version": 3
   },
   "file_extension": ".py",
   "mimetype": "text/x-python",
   "name": "python",
   "nbconvert_exporter": "python",
   "pygments_lexer": "ipython3",
   "version": "3.8.17"
  },
  "toc-autonumbering": true
 },
 "nbformat": 4,
 "nbformat_minor": 5
}
