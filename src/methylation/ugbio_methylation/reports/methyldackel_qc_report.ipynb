{
 "cells": [
  {
   "cell_type": "code",
   "execution_count": 32,
   "metadata": {
    "pycharm": {
     "name": "#%%\n"
    }
   },
   "outputs": [],
   "source": [
    "# version 2.0\n",
    "# ugbio_methylation.methyldackel_qc_report.ipynb\n",
    "# =============================================\n"
   ]
  },
  {
   "cell_type": "code",
   "execution_count": 33,
   "metadata": {
    "jupyter": {
     "outputs_hidden": false
    },
    "pycharm": {
     "name": "#%%\n"
    }
   },
   "outputs": [],
   "source": [
    "# from IPython.display import display, HTML\n",
    "\n",
    "import matplotlib.pyplot as plt\n",
    "import pandas as pd\n",
    "import seaborn as sns\n",
    "from IPython.display import HTML, display  # noqa:A004"
   ]
  },
  {
   "cell_type": "code",
   "execution_count": 34,
   "metadata": {
    "pycharm": {
     "name": "#%%\n"
    }
   },
   "outputs": [],
   "source": [
    "import warnings\n",
    "\n",
    "from IPython.core.interactiveshell import InteractiveShell\n",
    "\n",
    "InteractiveShell.ast_node_interactivity = \"all\"\n",
    "\n",
    "warnings.filterwarnings(\"ignore\")"
   ]
  },
  {
   "cell_type": "code",
   "execution_count": 35,
   "metadata": {
    "pycharm": {
     "name": "#%%\n"
    }
   },
   "outputs": [],
   "source": [
    "pd.set_option(\"display.max_rows\", 10000)\n",
    "pd.set_option(\"display.width\", 1200)\n",
    "pd.set_option(\"display.max_colwidth\", 0)"
   ]
  },
  {
   "cell_type": "code",
   "execution_count": 36,
   "metadata": {
    "tags": [
     "parameters"
    ]
   },
   "outputs": [],
   "source": [
    "input_h5_file = \"\"\n",
    "input_base_file_name = \"\""
   ]
  },
  {
   "cell_type": "code",
   "execution_count": 37,
   "metadata": {
    "pycharm": {
     "name": "#%%\n"
    }
   },
   "outputs": [],
   "source": [
    "# seperate the processing into the different tables from MethylDackel\n",
    "with pd.HDFStore(input_h5_file, \"r\") as store:\n",
    "    list_tables = store.keys()"
   ]
  },
  {
   "cell_type": "code",
   "execution_count": 38,
   "metadata": {
    "pycharm": {
     "name": "#%%\n"
    }
   },
   "outputs": [],
   "source": [
    "def format_metric_names(df_in):\n",
    "    df_in[\"metric\"] = df_in[\"metric\"].str.replace(r\"PercentMethylation\", \"Percent Methylation: \", regex=True)\n",
    "    df_in[\"metric\"] = df_in[\"metric\"].str.replace(\n",
    "        r\"PercentMethylationPosition\", \"Percent Methylation Position: \", regex=True\n",
    "    )\n",
    "    df_in[\"metric\"] = df_in[\"metric\"].str.replace(r\"CumulativeCoverage\", \"Cumulative Coverage\", regex=True)\n",
    "    df_in[\"metric\"] = df_in[\"metric\"].str.replace(r\"Coverage\", \"Coverage: \", regex=True)\n",
    "    df_in[\"metric\"] = df_in[\"metric\"].str.replace(r\"TotalCpGs\", \"Total CpGs: \", regex=True)\n",
    "    df_in[\"metric\"] = df_in[\"metric\"].str.replace(r\"_\", \" \", regex=True)\n",
    "    return df_in"
   ]
  },
  {
   "cell_type": "code",
   "execution_count": 39,
   "metadata": {
    "pycharm": {
     "name": "#%%\n"
    }
   },
   "outputs": [],
   "source": [
    "def parse_metric_names(df_in):\n",
    "    df_in[\"metric_orig\"] = df_in[\"metric\"]\n",
    "    pat = r\"\\w+_(\\d+)\"  # get value of bins\n",
    "    df_in[\"bin\"] = df_in[\"metric\"].str.extract(pat)\n",
    "    # get metric name\n",
    "    pat = r\"(\\w+)_\\d+\"\n",
    "    df_in[\"metric\"] = df_in[\"metric\"].str.extract(pat)\n",
    "    return df_in"
   ]
  },
  {
   "cell_type": "code",
   "execution_count": 40,
   "metadata": {
    "pycharm": {
     "name": "#%%\n"
    }
   },
   "outputs": [],
   "source": [
    "def display_side_by_side(dfs: list, captions: list, tablespacing=2):\n",
    "    output = \"\"\n",
    "    for caption, df in zip(captions, dfs, strict=False):\n",
    "        output += df.style.set_table_attributes(\"style='display:inline-table'\").set_caption(caption)._repr_html_()\n",
    "        output += tablespacing * \"\\xa0\"\n",
    "\n",
    "    display(HTML(output))"
   ]
  },
  {
   "cell_type": "markdown",
   "metadata": {},
   "source": [
    "# QC Report for Methylation Calling\n",
    "## Input parameters"
   ]
  },
  {
   "cell_type": "code",
   "execution_count": 41,
   "metadata": {},
   "outputs": [
    {
     "data": {
      "text/html": [
       "<style type=\"text/css\">\n",
       "#T_0cfae_row0_col0, #T_0cfae_row1_col0 {\n",
       "  text-align: left;\n",
       "}\n",
       "</style>\n",
       "<table id=\"T_0cfae\">\n",
       "  <thead>\n",
       "    <tr>\n",
       "      <th class=\"blank level0\" >&nbsp;</th>\n",
       "      <th id=\"T_0cfae_level0_col0\" class=\"col_heading level0 col0\" >value</th>\n",
       "    </tr>\n",
       "  </thead>\n",
       "  <tbody>\n",
       "    <tr>\n",
       "      <th id=\"T_0cfae_level0_row0\" class=\"row_heading level0 row0\" >Sample name</th>\n",
       "      <td id=\"T_0cfae_row0_col0\" class=\"data row0 col0\" >test</td>\n",
       "    </tr>\n",
       "    <tr>\n",
       "      <th id=\"T_0cfae_level0_row1\" class=\"row_heading level0 row1\" >h5 file</th>\n",
       "      <td id=\"T_0cfae_row1_col0\" class=\"data row1 col0\" >/workspaces/ugbio-utils/test.methyl_seq.applicationQC.h5</td>\n",
       "    </tr>\n",
       "  </tbody>\n",
       "</table>\n"
      ],
      "text/plain": [
       "<IPython.core.display.HTML object>"
      ]
     },
     "metadata": {},
     "output_type": "display_data"
    }
   ],
   "source": [
    "to_print_sample_info = pd.DataFrame(\n",
    "    data={\"value\": [input_base_file_name, str(input_h5_file)]}, index=[\"Sample name\", \"h5 file\"]\n",
    ")\n",
    "\n",
    "to_print_sample_info[\"value\"] = to_print_sample_info[\"value\"].str.wrap(100)\n",
    "\n",
    "\n",
    "def wrap_df_text(df):\n",
    "    return display(HTML(df.to_html().replace(\"\\\\n\", \"<br>\")))\n",
    "\n",
    "\n",
    "wrap_df_text(to_print_sample_info.style.set_properties(**{\"text-align\": \"left\"}))"
   ]
  },
  {
   "cell_type": "markdown",
   "metadata": {},
   "source": [
    "## Human Genome: Global Methylation Statistics"
   ]
  },
  {
   "cell_type": "code",
   "execution_count": 42,
   "metadata": {
    "pycharm": {
     "name": "#%%\n"
    }
   },
   "outputs": [
    {
     "data": {
      "text/html": [
       "<div>\n",
       "<style scoped>\n",
       "    .dataframe tbody tr th:only-of-type {\n",
       "        vertical-align: middle;\n",
       "    }\n",
       "\n",
       "    .dataframe tbody tr th {\n",
       "        vertical-align: top;\n",
       "    }\n",
       "\n",
       "    .dataframe thead th {\n",
       "        text-align: right;\n",
       "    }\n",
       "</style>\n",
       "<table border=\"1\" class=\"dataframe\">\n",
       "  <thead>\n",
       "    <tr style=\"text-align: right;\">\n",
       "      <th></th>\n",
       "      <th>value</th>\n",
       "    </tr>\n",
       "    <tr>\n",
       "      <th>metric</th>\n",
       "      <th></th>\n",
       "    </tr>\n",
       "  </thead>\n",
       "  <tbody>\n",
       "    <tr>\n",
       "      <th>Percent Methylation:  mean</th>\n",
       "      <td>75.69</td>\n",
       "    </tr>\n",
       "    <tr>\n",
       "      <th>Percent Methylation:  std</th>\n",
       "      <td>26.33</td>\n",
       "    </tr>\n",
       "    <tr>\n",
       "      <th>Percent Methylation:  median</th>\n",
       "      <td>85.00</td>\n",
       "    </tr>\n",
       "    <tr>\n",
       "      <th>Total CpGs:</th>\n",
       "      <td>4,999</td>\n",
       "    </tr>\n",
       "    <tr>\n",
       "      <th>Coverage:  mean</th>\n",
       "      <td>34.86</td>\n",
       "    </tr>\n",
       "    <tr>\n",
       "      <th>Coverage:  std</th>\n",
       "      <td>37.43</td>\n",
       "    </tr>\n",
       "    <tr>\n",
       "      <th>Coverage:  median</th>\n",
       "      <td>25.00</td>\n",
       "    </tr>\n",
       "  </tbody>\n",
       "</table>\n",
       "</div>"
      ],
      "text/plain": [
       "                              value\n",
       "metric                             \n",
       "Percent Methylation:  mean    75.69\n",
       "Percent Methylation:  std     26.33\n",
       "Percent Methylation:  median  85.00\n",
       "Total CpGs:                   4,999\n",
       "Coverage:  mean               34.86\n",
       "Coverage:  std                37.43\n",
       "Coverage:  median             25.00"
      ]
     },
     "metadata": {},
     "output_type": "display_data"
    }
   ],
   "source": [
    "# main statistics table\n",
    "# --------------------------\n",
    "tbl = \"merge_context_desc\"\n",
    "genome = \"hg\"\n",
    "df_desc = pd.read_hdf(input_h5_file, key=tbl)\n",
    "df_desc = pd.DataFrame(df_desc)\n",
    "df_desc = df_desc.query(\"detail == @genome\")\n",
    "df_desc = df_desc.reset_index()\n",
    "df_desc = df_desc.drop(columns=[\"detail\"])\n",
    "df_desc = format_metric_names(df_desc)\n",
    "to_int = df_desc.metric == \"Total CpGs: \"\n",
    "to_float = df_desc.metric != \"Total CpGs: \"\n",
    "df_desc.loc[to_int, \"value\"] = df_desc.loc[to_int, \"value\"].map(\"{:,.0f}\".format)\n",
    "df_desc.loc[to_float, \"value\"] = df_desc.loc[to_float, \"value\"].map(\"{:,.2f}\".format)\n",
    "display(df_desc.set_index(\"metric\"))\n",
    "\n",
    "# -----------"
   ]
  },
  {
   "cell_type": "markdown",
   "metadata": {},
   "source": [
    "## Human Genome: Details of Per-Read Descriptive Statistics"
   ]
  },
  {
   "cell_type": "code",
   "execution_count": 43,
   "metadata": {
    "pycharm": {
     "name": "#%%\n"
    }
   },
   "outputs": [
    {
     "data": {
      "text/html": [
       "<div>\n",
       "<style scoped>\n",
       "    .dataframe tbody tr th:only-of-type {\n",
       "        vertical-align: middle;\n",
       "    }\n",
       "\n",
       "    .dataframe tbody tr th {\n",
       "        vertical-align: top;\n",
       "    }\n",
       "\n",
       "    .dataframe thead th {\n",
       "        text-align: right;\n",
       "    }\n",
       "</style>\n",
       "<table border=\"1\" class=\"dataframe\">\n",
       "  <thead>\n",
       "    <tr style=\"text-align: right;\">\n",
       "      <th></th>\n",
       "      <th>value</th>\n",
       "    </tr>\n",
       "    <tr>\n",
       "      <th>metric</th>\n",
       "      <th></th>\n",
       "    </tr>\n",
       "  </thead>\n",
       "  <tbody>\n",
       "    <tr>\n",
       "      <th>Percent Methylation:  mean</th>\n",
       "      <td>44.45</td>\n",
       "    </tr>\n",
       "    <tr>\n",
       "      <th>Percent Methylation:  std</th>\n",
       "      <td>44.02</td>\n",
       "    </tr>\n",
       "    <tr>\n",
       "      <th>Percent Methylation:  median</th>\n",
       "      <td>33.33</td>\n",
       "    </tr>\n",
       "    <tr>\n",
       "      <th>Total CpGs:  mean</th>\n",
       "      <td>5.92</td>\n",
       "    </tr>\n",
       "    <tr>\n",
       "      <th>Total CpGs:  std</th>\n",
       "      <td>9.13</td>\n",
       "    </tr>\n",
       "    <tr>\n",
       "      <th>Total CpGs:  median</th>\n",
       "      <td>2.00</td>\n",
       "    </tr>\n",
       "  </tbody>\n",
       "</table>\n",
       "</div>"
      ],
      "text/plain": [
       "                              value\n",
       "metric                             \n",
       "Percent Methylation:  mean    44.45\n",
       "Percent Methylation:  std     44.02\n",
       "Percent Methylation:  median  33.33\n",
       "Total CpGs:  mean             5.92 \n",
       "Total CpGs:  std              9.13 \n",
       "Total CpGs:  median           2.00 "
      ]
     },
     "metadata": {},
     "output_type": "display_data"
    }
   ],
   "source": [
    "# per Read information\n",
    "# ------------------------\n",
    "\n",
    "tbl = \"per_read_desc\"\n",
    "genome = \"hg\"\n",
    "df_desc = pd.read_hdf(input_h5_file, key=tbl)\n",
    "df_desc = pd.DataFrame(df_desc)\n",
    "df_desc = df_desc.reset_index()\n",
    "df_desc = df_desc.drop(columns=[\"detail\"])\n",
    "df_desc = format_metric_names(df_desc)\n",
    "df_desc[\"value\"] = df_desc[\"value\"].map(\"{:,.2f}\".format)\n",
    "display(df_desc.set_index(\"metric\"))\n",
    "\n",
    "# -----------"
   ]
  },
  {
   "cell_type": "markdown",
   "metadata": {},
   "source": [
    "## Human Genome: Cytosines in Other Contexts Descriptive Statistics"
   ]
  },
  {
   "cell_type": "code",
   "execution_count": 44,
   "metadata": {
    "pycharm": {
     "name": "#%%\n"
    }
   },
   "outputs": [
    {
     "data": {
      "text/html": [
       "<style type=\"text/css\">\n",
       "</style>\n",
       "<table id=\"T_7a81f\" style='display:inline-table'>\n",
       "  <caption>CHG</caption>\n",
       "  <thead>\n",
       "    <tr>\n",
       "      <th class=\"blank level0\" >&nbsp;</th>\n",
       "      <th id=\"T_7a81f_level0_col0\" class=\"col_heading level0 col0\" >value</th>\n",
       "    </tr>\n",
       "    <tr>\n",
       "      <th class=\"index_name level0\" >metric</th>\n",
       "      <th class=\"blank col0\" >&nbsp;</th>\n",
       "    </tr>\n",
       "  </thead>\n",
       "  <tbody>\n",
       "    <tr>\n",
       "      <th id=\"T_7a81f_level0_row0\" class=\"row_heading level0 row0\" >Percent Methylation:  Mean</th>\n",
       "      <td id=\"T_7a81f_row0_col0\" class=\"data row0 col0\" >1.80%</td>\n",
       "    </tr>\n",
       "    <tr>\n",
       "      <th id=\"T_7a81f_level0_row1\" class=\"row_heading level0 row1\" >Percent Methylation:  Std</th>\n",
       "      <td id=\"T_7a81f_row1_col0\" class=\"data row1 col0\" >10.82%</td>\n",
       "    </tr>\n",
       "    <tr>\n",
       "      <th id=\"T_7a81f_level0_row2\" class=\"row_heading level0 row2\" >Percent Methylation:  Median</th>\n",
       "      <td id=\"T_7a81f_row2_col0\" class=\"data row2 col0\" >0.00%</td>\n",
       "    </tr>\n",
       "    <tr>\n",
       "      <th id=\"T_7a81f_level0_row3\" class=\"row_heading level0 row3\" >Coverage:  Mean</th>\n",
       "      <td id=\"T_7a81f_row3_col0\" class=\"data row3 col0\" >4.72</td>\n",
       "    </tr>\n",
       "    <tr>\n",
       "      <th id=\"T_7a81f_level0_row4\" class=\"row_heading level0 row4\" >Coverage:  Std</th>\n",
       "      <td id=\"T_7a81f_row4_col0\" class=\"data row4 col0\" >3.61</td>\n",
       "    </tr>\n",
       "    <tr>\n",
       "      <th id=\"T_7a81f_level0_row5\" class=\"row_heading level0 row5\" >Coverage:  Median</th>\n",
       "      <td id=\"T_7a81f_row5_col0\" class=\"data row5 col0\" >4.00</td>\n",
       "    </tr>\n",
       "  </tbody>\n",
       "</table>\n",
       "  <style type=\"text/css\">\n",
       "</style>\n",
       "<table id=\"T_f3b8a\" style='display:inline-table'>\n",
       "  <caption>CHH</caption>\n",
       "  <thead>\n",
       "    <tr>\n",
       "      <th class=\"blank level0\" >&nbsp;</th>\n",
       "      <th id=\"T_f3b8a_level0_col0\" class=\"col_heading level0 col0\" >value</th>\n",
       "    </tr>\n",
       "    <tr>\n",
       "      <th class=\"index_name level0\" >metric</th>\n",
       "      <th class=\"blank col0\" >&nbsp;</th>\n",
       "    </tr>\n",
       "  </thead>\n",
       "  <tbody>\n",
       "    <tr>\n",
       "      <th id=\"T_f3b8a_level0_row0\" class=\"row_heading level0 row0\" >Percent Methylation:  Mean</th>\n",
       "      <td id=\"T_f3b8a_row0_col0\" class=\"data row0 col0\" >2.68%</td>\n",
       "    </tr>\n",
       "    <tr>\n",
       "      <th id=\"T_f3b8a_level0_row1\" class=\"row_heading level0 row1\" >Percent Methylation:  Std</th>\n",
       "      <td id=\"T_f3b8a_row1_col0\" class=\"data row1 col0\" >14.42%</td>\n",
       "    </tr>\n",
       "    <tr>\n",
       "      <th id=\"T_f3b8a_level0_row2\" class=\"row_heading level0 row2\" >Percent Methylation:  Median</th>\n",
       "      <td id=\"T_f3b8a_row2_col0\" class=\"data row2 col0\" >0.00%</td>\n",
       "    </tr>\n",
       "    <tr>\n",
       "      <th id=\"T_f3b8a_level0_row3\" class=\"row_heading level0 row3\" >Coverage:  Mean</th>\n",
       "      <td id=\"T_f3b8a_row3_col0\" class=\"data row3 col0\" >3.22</td>\n",
       "    </tr>\n",
       "    <tr>\n",
       "      <th id=\"T_f3b8a_level0_row4\" class=\"row_heading level0 row4\" >Coverage:  Std</th>\n",
       "      <td id=\"T_f3b8a_row4_col0\" class=\"data row4 col0\" >2.33</td>\n",
       "    </tr>\n",
       "    <tr>\n",
       "      <th id=\"T_f3b8a_level0_row5\" class=\"row_heading level0 row5\" >Coverage:  Median</th>\n",
       "      <td id=\"T_f3b8a_row5_col0\" class=\"data row5 col0\" >2.00</td>\n",
       "    </tr>\n",
       "  </tbody>\n",
       "</table>\n",
       "  "
      ],
      "text/plain": [
       "<IPython.core.display.HTML object>"
      ]
     },
     "metadata": {},
     "output_type": "display_data"
    }
   ],
   "source": [
    "tbl = \"merge_context_non_cpg_desc\"\n",
    "\n",
    "df_desc = pd.read_hdf(input_h5_file, key=tbl)\n",
    "df_desc = pd.DataFrame(df_desc)\n",
    "df_desc = df_desc.reset_index()\n",
    "df_desc = format_metric_names(df_desc)\n",
    "\n",
    "df_desc[\"stat_type\"] = df_desc[\"metric\"].str.extract(r\"([A-Za-z]+)[\\s:]\")\n",
    "df_desc[\"metric\"] = df_desc[\"metric\"].str.title()\n",
    "df_desc[\"value\"][df_desc[\"stat_type\"] == \"Percent\"] = (df_desc[\"value\"][df_desc[\"stat_type\"] == \"Percent\"] / 100).map(\n",
    "    \"{:,.2%}\".format\n",
    ")\n",
    "df_desc[\"value\"][df_desc[\"stat_type\"] == \"Coverage\"] = df_desc[\"value\"][df_desc[\"stat_type\"] == \"Coverage\"].map(\n",
    "    \"{:,.2f}\".format\n",
    ")\n",
    "\n",
    "table_names = df_desc[\"detail\"].unique()\n",
    "df_output = []\n",
    "df_output = [y for x, y in df_desc.groupby(\"detail\")]\n",
    "\n",
    "df_to_print = []\n",
    "for line in df_output:\n",
    "    line.index = line[\"metric\"]\n",
    "    line = line[\"value\"].to_frame()  # noqa: PLW2901\n",
    "    df_to_print.append(line)\n",
    "\n",
    "display_side_by_side(df_to_print, table_names)\n",
    "\n",
    "# --------"
   ]
  },
  {
   "cell_type": "code",
   "execution_count": 45,
   "metadata": {
    "pycharm": {
     "name": "#%%\n"
    }
   },
   "outputs": [],
   "source": [
    "# function for creating Mbias plots\n",
    "# -----------------------------------------------------------------------------------\n",
    "def plot_mbias(in_list_df):\n",
    "    plt.style.use(\"ggplot\")\n",
    "\n",
    "    if len(in_list_df) == 4:  # noqa: PLR2004\n",
    "        i = j = k = 0\n",
    "        in_colours = [\"tomato\", \"indianred\", \"tomato\", \"indianred\"]\n",
    "        f, ax = plt.subplots(2, 2, figsize=[12, 12])\n",
    "\n",
    "        for j in range(ax.shape[0]):\n",
    "            for k in range(ax.shape[1]):\n",
    "                currax = ax[j][k]\n",
    "                curr_title = in_list_df[i][\"detail\"].unique()[0]\n",
    "\n",
    "                sns.lineplot(data=in_list_df[i], x=\"bin\", y=\"value\", lw=2.5, ax=currax, color=in_colours[i])\n",
    "                currax.set_xlabel(\"Position\", fontsize=14)\n",
    "                currax.set_ylabel(\"Fraction of Methylation\", fontsize=14)\n",
    "                currax.set_title(curr_title, fontsize=14)\n",
    "                currax.tick_params(labelsize=14)\n",
    "                plt.xticks(rotation=45)\n",
    "                currax.set_ylim([0, 1])\n",
    "                i += 1\n",
    "\n",
    "        plt.tight_layout()\n",
    "\n",
    "    else:\n",
    "        in_colours = [\"tomato\", \"indianred\"]\n",
    "        f, ax = plt.subplots(1, 2, figsize=[12, 5.5])\n",
    "\n",
    "        for i in range(len(in_list_df)):\n",
    "            currax = ax[i]\n",
    "            curr_title = in_list_df[i][\"detail\"].unique()[0]\n",
    "\n",
    "            sns.lineplot(data=in_list_df[i], x=\"bin\", y=\"value\", lw=2.5, ax=currax, color=in_colours[i])\n",
    "            currax.set_xlabel(\"Position\", fontsize=14)\n",
    "            currax.set_ylabel(\"Fraction of Methylation\", fontsize=14)\n",
    "            currax.set_title(list_tables[i], fontsize=14)\n",
    "            currax.tick_params(labelsize=14)\n",
    "            plt.xticks(rotation=45)\n",
    "            currax.set_ylim([0, 1])\n",
    "\n",
    "        plt.tight_layout()\n",
    "\n",
    "\n",
    "# --------"
   ]
  },
  {
   "cell_type": "markdown",
   "metadata": {},
   "source": [
    "## Human Genome: M-bias plots of mean methylation along reads"
   ]
  },
  {
   "cell_type": "code",
   "execution_count": 47,
   "metadata": {
    "pycharm": {
     "name": "#%%\n"
    }
   },
   "outputs": [
    {
     "ename": "KeyboardInterrupt",
     "evalue": "",
     "output_type": "error",
     "traceback": [
      "\u001b[0;31m---------------------------------------------------------------------------\u001b[0m",
      "\u001b[0;31mKeyboardInterrupt\u001b[0m                         Traceback (most recent call last)",
      "Cell \u001b[0;32mIn[47], line 7\u001b[0m\n\u001b[1;32m      4\u001b[0m tbl \u001b[38;5;241m=\u001b[39m \u001b[38;5;124m\"\u001b[39m\u001b[38;5;124mmbias_per_position\u001b[39m\u001b[38;5;124m\"\u001b[39m\n\u001b[1;32m      6\u001b[0m df_pos \u001b[38;5;241m=\u001b[39m pd\u001b[38;5;241m.\u001b[39mread_hdf(input_h5_file, key\u001b[38;5;241m=\u001b[39mtbl)\n\u001b[0;32m----> 7\u001b[0m df_pos \u001b[38;5;241m=\u001b[39m \u001b[43mpd\u001b[49m\u001b[38;5;241m.\u001b[39mDataFrame(df_pos)\n\u001b[1;32m      8\u001b[0m df_pos \u001b[38;5;241m=\u001b[39m df_pos\u001b[38;5;241m.\u001b[39mreset_index()\n\u001b[1;32m      9\u001b[0m df_pos \u001b[38;5;241m=\u001b[39m parse_metric_names(df_pos)\n",
      "Cell \u001b[0;32mIn[47], line 7\u001b[0m\n\u001b[1;32m      4\u001b[0m tbl \u001b[38;5;241m=\u001b[39m \u001b[38;5;124m\"\u001b[39m\u001b[38;5;124mmbias_per_position\u001b[39m\u001b[38;5;124m\"\u001b[39m\n\u001b[1;32m      6\u001b[0m df_pos \u001b[38;5;241m=\u001b[39m pd\u001b[38;5;241m.\u001b[39mread_hdf(input_h5_file, key\u001b[38;5;241m=\u001b[39mtbl)\n\u001b[0;32m----> 7\u001b[0m df_pos \u001b[38;5;241m=\u001b[39m \u001b[43mpd\u001b[49m\u001b[38;5;241m.\u001b[39mDataFrame(df_pos)\n\u001b[1;32m      8\u001b[0m df_pos \u001b[38;5;241m=\u001b[39m df_pos\u001b[38;5;241m.\u001b[39mreset_index()\n\u001b[1;32m      9\u001b[0m df_pos \u001b[38;5;241m=\u001b[39m parse_metric_names(df_pos)\n",
      "File \u001b[0;32m_pydevd_bundle\\\\pydevd_cython.pyx:1698\u001b[0m, in \u001b[0;36m_pydevd_bundle.pydevd_cython.SafeCallWrapper.__call__\u001b[0;34m()\u001b[0m\n",
      "File \u001b[0;32m_pydevd_bundle\\\\pydevd_cython.pyx:636\u001b[0m, in \u001b[0;36m_pydevd_bundle.pydevd_cython.PyDBFrame.trace_dispatch\u001b[0;34m()\u001b[0m\n",
      "File \u001b[0;32m_pydevd_bundle\\\\pydevd_cython.pyx:1369\u001b[0m, in \u001b[0;36m_pydevd_bundle.pydevd_cython.PyDBFrame.trace_dispatch\u001b[0;34m()\u001b[0m\n",
      "File \u001b[0;32m_pydevd_bundle\\\\pydevd_cython.pyx:1312\u001b[0m, in \u001b[0;36m_pydevd_bundle.pydevd_cython.PyDBFrame.trace_dispatch\u001b[0;34m()\u001b[0m\n",
      "File \u001b[0;32m_pydevd_bundle\\\\pydevd_cython.pyx:496\u001b[0m, in \u001b[0;36m_pydevd_bundle.pydevd_cython.PyDBFrame.do_wait_suspend\u001b[0;34m()\u001b[0m\n",
      "File \u001b[0;32m/workspaces/ugbio-utils/.venv/lib/python3.11/site-packages/debugpy/_vendored/pydevd/pydevd.py:2197\u001b[0m, in \u001b[0;36mPyDB.do_wait_suspend\u001b[0;34m(self, thread, frame, event, arg, exception_type)\u001b[0m\n\u001b[1;32m   2194\u001b[0m             from_this_thread\u001b[38;5;241m.\u001b[39mappend(frame_custom_thread_id)\n\u001b[1;32m   2196\u001b[0m     \u001b[38;5;28;01mwith\u001b[39;00m \u001b[38;5;28mself\u001b[39m\u001b[38;5;241m.\u001b[39m_threads_suspended_single_notification\u001b[38;5;241m.\u001b[39mnotify_thread_suspended(thread_id, thread, stop_reason):\n\u001b[0;32m-> 2197\u001b[0m         keep_suspended \u001b[38;5;241m=\u001b[39m \u001b[38;5;28;43mself\u001b[39;49m\u001b[38;5;241;43m.\u001b[39;49m\u001b[43m_do_wait_suspend\u001b[49m\u001b[43m(\u001b[49m\u001b[43mthread\u001b[49m\u001b[43m,\u001b[49m\u001b[43m \u001b[49m\u001b[43mframe\u001b[49m\u001b[43m,\u001b[49m\u001b[43m \u001b[49m\u001b[43mevent\u001b[49m\u001b[43m,\u001b[49m\u001b[43m \u001b[49m\u001b[43marg\u001b[49m\u001b[43m,\u001b[49m\u001b[43m \u001b[49m\u001b[43mtrace_suspend_type\u001b[49m\u001b[43m,\u001b[49m\u001b[43m \u001b[49m\u001b[43mfrom_this_thread\u001b[49m\u001b[43m,\u001b[49m\u001b[43m \u001b[49m\u001b[43mframes_tracker\u001b[49m\u001b[43m)\u001b[49m\n\u001b[1;32m   2199\u001b[0m frames_list \u001b[38;5;241m=\u001b[39m \u001b[38;5;28;01mNone\u001b[39;00m\n\u001b[1;32m   2201\u001b[0m \u001b[38;5;28;01mif\u001b[39;00m keep_suspended:\n\u001b[1;32m   2202\u001b[0m     \u001b[38;5;66;03m# This means that we should pause again after a set next statement.\u001b[39;00m\n",
      "File \u001b[0;32m/workspaces/ugbio-utils/.venv/lib/python3.11/site-packages/debugpy/_vendored/pydevd/pydevd.py:2266\u001b[0m, in \u001b[0;36mPyDB._do_wait_suspend\u001b[0;34m(self, thread, frame, event, arg, trace_suspend_type, from_this_thread, frames_tracker)\u001b[0m\n\u001b[1;32m   2263\u001b[0m                 queue\u001b[38;5;241m.\u001b[39mput(internal_cmd)\n\u001b[1;32m   2264\u001b[0m                 wait_timeout \u001b[38;5;241m=\u001b[39m TIMEOUT_FAST\n\u001b[0;32m-> 2266\u001b[0m         \u001b[43mnotify_event\u001b[49m\u001b[38;5;241;43m.\u001b[39;49m\u001b[43mwait\u001b[49m\u001b[43m(\u001b[49m\u001b[43mwait_timeout\u001b[49m\u001b[43m)\u001b[49m\n\u001b[1;32m   2267\u001b[0m         notify_event\u001b[38;5;241m.\u001b[39mclear()\n\u001b[1;32m   2269\u001b[0m \u001b[38;5;28;01mfinally\u001b[39;00m:\n",
      "File \u001b[0;32m/usr/local/lib/python3.11/threading.py:629\u001b[0m, in \u001b[0;36mEvent.wait\u001b[0;34m(self, timeout)\u001b[0m\n\u001b[1;32m    627\u001b[0m signaled \u001b[38;5;241m=\u001b[39m \u001b[38;5;28mself\u001b[39m\u001b[38;5;241m.\u001b[39m_flag\n\u001b[1;32m    628\u001b[0m \u001b[38;5;28;01mif\u001b[39;00m \u001b[38;5;129;01mnot\u001b[39;00m signaled:\n\u001b[0;32m--> 629\u001b[0m     signaled \u001b[38;5;241m=\u001b[39m \u001b[38;5;28;43mself\u001b[39;49m\u001b[38;5;241;43m.\u001b[39;49m\u001b[43m_cond\u001b[49m\u001b[38;5;241;43m.\u001b[39;49m\u001b[43mwait\u001b[49m\u001b[43m(\u001b[49m\u001b[43mtimeout\u001b[49m\u001b[43m)\u001b[49m\n\u001b[1;32m    630\u001b[0m \u001b[38;5;28;01mreturn\u001b[39;00m signaled\n",
      "File \u001b[0;32m/usr/local/lib/python3.11/threading.py:331\u001b[0m, in \u001b[0;36mCondition.wait\u001b[0;34m(self, timeout)\u001b[0m\n\u001b[1;32m    329\u001b[0m \u001b[38;5;28;01melse\u001b[39;00m:\n\u001b[1;32m    330\u001b[0m     \u001b[38;5;28;01mif\u001b[39;00m timeout \u001b[38;5;241m>\u001b[39m \u001b[38;5;241m0\u001b[39m:\n\u001b[0;32m--> 331\u001b[0m         gotit \u001b[38;5;241m=\u001b[39m \u001b[43mwaiter\u001b[49m\u001b[38;5;241;43m.\u001b[39;49m\u001b[43macquire\u001b[49m\u001b[43m(\u001b[49m\u001b[38;5;28;43;01mTrue\u001b[39;49;00m\u001b[43m,\u001b[49m\u001b[43m \u001b[49m\u001b[43mtimeout\u001b[49m\u001b[43m)\u001b[49m\n\u001b[1;32m    332\u001b[0m     \u001b[38;5;28;01melse\u001b[39;00m:\n\u001b[1;32m    333\u001b[0m         gotit \u001b[38;5;241m=\u001b[39m waiter\u001b[38;5;241m.\u001b[39macquire(\u001b[38;5;28;01mFalse\u001b[39;00m)\n",
      "\u001b[0;31mKeyboardInterrupt\u001b[0m: "
     ]
    }
   ],
   "source": [
    "# Mbias: Mean methylation along reads\n",
    "# ========================================\n",
    "\n",
    "tbl = \"mbias_per_position\"\n",
    "\n",
    "df_pos = pd.read_hdf(input_h5_file, key=tbl)\n",
    "df_pos = pd.DataFrame(df_pos)\n",
    "df_pos = df_pos.reset_index()\n",
    "df_pos = parse_metric_names(df_pos)\n",
    "df_pos[\"bin\"] = df_pos[\"bin\"].astype(int)\n",
    "list_tables = list(set(df_pos[\"detail\"]))\n",
    "\n",
    "df_to_print = df_pos.copy()\n",
    "df_to_print[\"stat_type\"] = df_to_print[\"metric\"].str.extract(r\"([A-Za-z]+)\\s\")\n",
    "df_to_print[\"metric\"] = df_to_print[\"metric\"].str.title()\n",
    "\n",
    "list_df = [y for x, y in df_to_print.groupby(df_pos[\"detail\"], sort=False)]\n",
    "\n",
    "# plot the MBIAS tests\n",
    "plot_mbias(list_df)\n",
    "\n",
    "# ---------------"
   ]
  },
  {
   "cell_type": "markdown",
   "metadata": {},
   "source": [
    "## M-bias Descriptive Statistics"
   ]
  },
  {
   "cell_type": "code",
   "execution_count": 23,
   "metadata": {
    "pycharm": {
     "name": "#%%\n"
    }
   },
   "outputs": [
    {
     "data": {
      "text/html": [
       "<style type=\"text/css\">\n",
       "</style>\n",
       "<table id=\"T_7ebb3\" style='display:inline-table'>\n",
       "  <caption>OT</caption>\n",
       "  <thead>\n",
       "    <tr>\n",
       "      <th class=\"blank level0\" >&nbsp;</th>\n",
       "      <th id=\"T_7ebb3_level0_col0\" class=\"col_heading level0 col0\" >value</th>\n",
       "    </tr>\n",
       "    <tr>\n",
       "      <th class=\"index_name level0\" >metric</th>\n",
       "      <th class=\"blank col0\" >&nbsp;</th>\n",
       "    </tr>\n",
       "  </thead>\n",
       "  <tbody>\n",
       "    <tr>\n",
       "      <th id=\"T_7ebb3_level0_row0\" class=\"row_heading level0 row0\" >Percent Methylation:  Mean</th>\n",
       "      <td id=\"T_7ebb3_row0_col0\" class=\"data row0 col0\" >48.14%</td>\n",
       "    </tr>\n",
       "    <tr>\n",
       "      <th id=\"T_7ebb3_level0_row1\" class=\"row_heading level0 row1\" >Percent Methylation:  Std</th>\n",
       "      <td id=\"T_7ebb3_row1_col0\" class=\"data row1 col0\" >10.81%</td>\n",
       "    </tr>\n",
       "    <tr>\n",
       "      <th id=\"T_7ebb3_level0_row2\" class=\"row_heading level0 row2\" >Percent Methylation:  Median</th>\n",
       "      <td id=\"T_7ebb3_row2_col0\" class=\"data row2 col0\" >52.28%</td>\n",
       "    </tr>\n",
       "  </tbody>\n",
       "</table>\n",
       "  <style type=\"text/css\">\n",
       "</style>\n",
       "<table id=\"T_fa0a5\" style='display:inline-table'>\n",
       "  <caption>OB</caption>\n",
       "  <thead>\n",
       "    <tr>\n",
       "      <th class=\"blank level0\" >&nbsp;</th>\n",
       "      <th id=\"T_fa0a5_level0_col0\" class=\"col_heading level0 col0\" >value</th>\n",
       "    </tr>\n",
       "    <tr>\n",
       "      <th class=\"index_name level0\" >metric</th>\n",
       "      <th class=\"blank col0\" >&nbsp;</th>\n",
       "    </tr>\n",
       "  </thead>\n",
       "  <tbody>\n",
       "    <tr>\n",
       "      <th id=\"T_fa0a5_level0_row0\" class=\"row_heading level0 row0\" >Percent Methylation:  Mean</th>\n",
       "      <td id=\"T_fa0a5_row0_col0\" class=\"data row0 col0\" >47.65%</td>\n",
       "    </tr>\n",
       "    <tr>\n",
       "      <th id=\"T_fa0a5_level0_row1\" class=\"row_heading level0 row1\" >Percent Methylation:  Std</th>\n",
       "      <td id=\"T_fa0a5_row1_col0\" class=\"data row1 col0\" >13.53%</td>\n",
       "    </tr>\n",
       "    <tr>\n",
       "      <th id=\"T_fa0a5_level0_row2\" class=\"row_heading level0 row2\" >Percent Methylation:  Median</th>\n",
       "      <td id=\"T_fa0a5_row2_col0\" class=\"data row2 col0\" >53.98%</td>\n",
       "    </tr>\n",
       "  </tbody>\n",
       "</table>\n",
       "  "
      ],
      "text/plain": [
       "<IPython.core.display.HTML object>"
      ]
     },
     "metadata": {},
     "output_type": "display_data"
    }
   ],
   "source": [
    "# CONTINUES Mbias: Mean methylation along reads\n",
    "tbl = \"mbias_desc\"\n",
    "\n",
    "df_desc = pd.read_hdf(input_h5_file, key=tbl)\n",
    "df_desc = pd.DataFrame(df_desc)\n",
    "df_desc = df_desc.reset_index()\n",
    "df_desc = format_metric_names(df_desc)\n",
    "\n",
    "df_to_print = df_desc.copy()\n",
    "df_to_print[\"stat_type\"] = df_to_print[\"metric\"].str.extract(r\"([A-Za-z]+)\\s\")\n",
    "df_to_print[\"metric\"] = df_to_print[\"metric\"].str.title()\n",
    "\n",
    "\n",
    "df_to_print[\"value\"][df_to_print[\"stat_type\"] == \"Percent\"] = (\n",
    "    df_to_print[\"value\"][df_to_print[\"stat_type\"] == \"Percent\"]\n",
    ").map(\"{:,.2%}\".format)\n",
    "\n",
    "\n",
    "cols = [\"metric\", \"value\"]\n",
    "df_output = []\n",
    "df_output = [y for x, y in df_to_print.groupby(\"detail\")]\n",
    "\n",
    "\n",
    "if len(df_output) == 4:  # noqa: PLR2004\n",
    "    order = [3, 2, 1, 0]\n",
    "else:\n",
    "    order = [1, 0]\n",
    "df_output = [df_output[i] for i in order]\n",
    "\n",
    "del df_to_print\n",
    "df_to_print = []\n",
    "temp_tables = []\n",
    "for line in df_output:\n",
    "    line.index = line[\"metric\"]\n",
    "    temp_tables.append(line[\"detail\"][0])\n",
    "    df_to_print.append(line[\"value\"].to_frame())\n",
    "\n",
    "display_side_by_side(df_to_print, temp_tables)\n",
    "\n",
    "# ---------------"
   ]
  },
  {
   "cell_type": "markdown",
   "metadata": {},
   "source": [
    "## Human Genome: M-bias plots of mean methylation on CHH/CHG along reads"
   ]
  },
  {
   "cell_type": "code",
   "execution_count": 24,
   "metadata": {},
   "outputs": [
    {
     "data": {
      "image/png": "[encoded data removed]",
      "text/plain": [
       "<Figure size 1200x550 with 2 Axes>"
      ]
     },
     "metadata": {},
     "output_type": "display_data"
    }
   ],
   "source": [
    "# MbiasNoCpG: Mean methylation along reads on non-CpG Cytosines\n",
    "# ========================================\n",
    "\n",
    "tbl = \"mbias_non_cpg_per_position\"\n",
    "\n",
    "df_pos = pd.read_hdf(input_h5_file, key=tbl)\n",
    "df_pos = pd.DataFrame(df_pos)\n",
    "df_pos = df_pos.reset_index()\n",
    "df_pos = parse_metric_names(df_pos)\n",
    "df_pos[\"bin\"] = df_pos[\"bin\"].astype(int)\n",
    "list_tables = list(set(df_pos[\"detail\"]))\n",
    "\n",
    "df_to_print = df_pos.copy()\n",
    "df_to_print[\"stat_type\"] = df_to_print[\"metric\"].str.extract(r\"([A-Za-z]+)\\s\")\n",
    "df_to_print[\"metric\"] = df_to_print[\"metric\"].str.title()\n",
    "\n",
    "list_df = [y for x, y in df_to_print.groupby(df_pos[\"detail\"], sort=False)]\n",
    "\n",
    "# plot the MBIAS tests\n",
    "plot_mbias(list_df)\n",
    "\n",
    "# ---------------"
   ]
  },
  {
   "cell_type": "markdown",
   "metadata": {},
   "source": [
    "## M-bias of CHH/CHG Descriptive Statistics"
   ]
  },
  {
   "cell_type": "code",
   "execution_count": 25,
   "metadata": {},
   "outputs": [
    {
     "data": {
      "text/html": [
       "<style type=\"text/css\">\n",
       "</style>\n",
       "<table id=\"T_dc4a7\" style='display:inline-table'>\n",
       "  <caption>OT</caption>\n",
       "  <thead>\n",
       "    <tr>\n",
       "      <th class=\"blank level0\" >&nbsp;</th>\n",
       "      <th id=\"T_dc4a7_level0_col0\" class=\"col_heading level0 col0\" >value</th>\n",
       "    </tr>\n",
       "    <tr>\n",
       "      <th class=\"index_name level0\" >metric</th>\n",
       "      <th class=\"blank col0\" >&nbsp;</th>\n",
       "    </tr>\n",
       "  </thead>\n",
       "  <tbody>\n",
       "    <tr>\n",
       "      <th id=\"T_dc4a7_level0_row0\" class=\"row_heading level0 row0\" >Percent Methylation:  Mean</th>\n",
       "      <td id=\"T_dc4a7_row0_col0\" class=\"data row0 col0\" >1.35%</td>\n",
       "    </tr>\n",
       "    <tr>\n",
       "      <th id=\"T_dc4a7_level0_row1\" class=\"row_heading level0 row1\" >Percent Methylation:  Std</th>\n",
       "      <td id=\"T_dc4a7_row1_col0\" class=\"data row1 col0\" >0.62%</td>\n",
       "    </tr>\n",
       "    <tr>\n",
       "      <th id=\"T_dc4a7_level0_row2\" class=\"row_heading level0 row2\" >Percent Methylation:  Median</th>\n",
       "      <td id=\"T_dc4a7_row2_col0\" class=\"data row2 col0\" >1.35%</td>\n",
       "    </tr>\n",
       "  </tbody>\n",
       "</table>\n",
       "  <style type=\"text/css\">\n",
       "</style>\n",
       "<table id=\"T_1b24c\" style='display:inline-table'>\n",
       "  <caption>OB</caption>\n",
       "  <thead>\n",
       "    <tr>\n",
       "      <th class=\"blank level0\" >&nbsp;</th>\n",
       "      <th id=\"T_1b24c_level0_col0\" class=\"col_heading level0 col0\" >value</th>\n",
       "    </tr>\n",
       "    <tr>\n",
       "      <th class=\"index_name level0\" >metric</th>\n",
       "      <th class=\"blank col0\" >&nbsp;</th>\n",
       "    </tr>\n",
       "  </thead>\n",
       "  <tbody>\n",
       "    <tr>\n",
       "      <th id=\"T_1b24c_level0_row0\" class=\"row_heading level0 row0\" >Percent Methylation:  Mean</th>\n",
       "      <td id=\"T_1b24c_row0_col0\" class=\"data row0 col0\" >1.40%</td>\n",
       "    </tr>\n",
       "    <tr>\n",
       "      <th id=\"T_1b24c_level0_row1\" class=\"row_heading level0 row1\" >Percent Methylation:  Std</th>\n",
       "      <td id=\"T_1b24c_row1_col0\" class=\"data row1 col0\" >0.78%</td>\n",
       "    </tr>\n",
       "    <tr>\n",
       "      <th id=\"T_1b24c_level0_row2\" class=\"row_heading level0 row2\" >Percent Methylation:  Median</th>\n",
       "      <td id=\"T_1b24c_row2_col0\" class=\"data row2 col0\" >1.44%</td>\n",
       "    </tr>\n",
       "  </tbody>\n",
       "</table>\n",
       "  "
      ],
      "text/plain": [
       "<IPython.core.display.HTML object>"
      ]
     },
     "metadata": {},
     "output_type": "display_data"
    }
   ],
   "source": [
    "# CONTINUES MbiasNoCpG: Mean methylation along reads on non-CpG Cytosines\n",
    "tbl = \"mbias_non_cpg_desc\"\n",
    "\n",
    "df_desc = pd.read_hdf(input_h5_file, key=tbl)\n",
    "df_desc = pd.DataFrame(df_desc)\n",
    "df_desc = df_desc.reset_index()\n",
    "df_desc = format_metric_names(df_desc)\n",
    "\n",
    "df_to_print = df_desc.copy()\n",
    "df_to_print[\"stat_type\"] = df_to_print[\"metric\"].str.extract(r\"([A-Za-z]+)\\s\")\n",
    "df_to_print[\"metric\"] = df_to_print[\"metric\"].str.title()\n",
    "\n",
    "\n",
    "df_to_print[\"value\"][df_to_print[\"stat_type\"] == \"Percent\"] = (\n",
    "    df_to_print[\"value\"][df_to_print[\"stat_type\"] == \"Percent\"]\n",
    ").map(\"{:,.2%}\".format)\n",
    "\n",
    "\n",
    "cols = [\"metric\", \"value\"]\n",
    "df_output = []\n",
    "df_output = [y for x, y in df_to_print.groupby(\"detail\")]\n",
    "\n",
    "\n",
    "if len(df_output) == 4:  # noqa: PLR2004\n",
    "    order = [3, 2, 1, 0]\n",
    "else:\n",
    "    order = [1, 0]\n",
    "df_output = [df_output[i] for i in order]\n",
    "\n",
    "del df_to_print\n",
    "df_to_print = []\n",
    "temp_tables = []\n",
    "for line in df_output:\n",
    "    line.index = line[\"metric\"]\n",
    "    temp_tables.append(line[\"detail\"][0])\n",
    "    df_to_print.append(line[\"value\"].to_frame())\n",
    "\n",
    "display_side_by_side(df_to_print, temp_tables)\n",
    "\n",
    "# ---------------"
   ]
  },
  {
   "cell_type": "code",
   "execution_count": 26,
   "metadata": {
    "pycharm": {
     "name": "#%%\n"
    }
   },
   "outputs": [],
   "source": [
    "## Control genomes (if exist)\n",
    "# ------------------------------\n",
    "\n",
    "tbl = \"merge_context_per_position\"\n",
    "if tbl in list_tables:\n",
    "    df_pos = pd.read_hdf(input_h5_file, key=tbl)\n",
    "    df_pos = pd.DataFrame(df_pos)\n",
    "    df_pos = df_pos.reset_index()\n",
    "    all_genomes = list(set(df_pos[\"detail\"]))\n",
    "    ctrl_genomes = [\"Lambda\", \"pUC19\"]\n",
    "\n",
    "    check = all(item in all_genomes for item in ctrl_genomes)\n",
    "\n",
    "    if check is True:\n",
    "        display(HTML(\"<h2>\" + \"Control Genomes: Methylation and Coverage\" + \"</h2>\"))\n",
    "\n",
    "        # PRINT PLOTS OF PERCENT METHYLATION ACROSS ENTIRE CONTROL GENOMES\n",
    "        # -----------------------------------------------------------------\n",
    "\n",
    "        df_pos = parse_metric_names(df_pos)\n",
    "        df_pos[\"bin\"] = df_pos[\"bin\"].astype(int)\n",
    "        df_pos = format_metric_names(df_pos)\n",
    "        df_pos[\"bin\"] = df_pos[\"bin\"].astype(int)\n",
    "        df_pos = df_pos.query('metric == \"Percent Methylation: Position\"')\n",
    "        df_output = [y for x, y in df_pos.groupby(\"detail\")]\n",
    "\n",
    "        df_pos_meth = []\n",
    "        n = 102\n",
    "        f, ax = plt.subplots(1, 2, figsize=[12, 5])\n",
    "        i = 0\n",
    "        palet = [\"forestgreen\", \"steelblue\"]\n",
    "\n",
    "        for df_pos_meth in df_output:\n",
    "            # get methylation per position\n",
    "            df_pos_meth = df_pos_meth.reset_index()  # noqa: PLW2901\n",
    "            temp_genome = df_pos_meth[\"detail\"].unique()[0]\n",
    "\n",
    "            # print to subplots\n",
    "            currax = ax[i]\n",
    "            s = df_pos_meth.plot(\n",
    "                kind=\"area\",\n",
    "                ylim=[0, n],\n",
    "                y=\"value\",\n",
    "                title=temp_genome + \": Percent methylation\",\n",
    "                legend=False,\n",
    "                color=palet[i],\n",
    "                alpha=0.6,\n",
    "                ax=currax,\n",
    "                fontsize=14,\n",
    "            )\n",
    "            a = currax.set(xlabel=\"Position\", ylabel=\"Percent Methylation\")\n",
    "            plt.style.use(\"ggplot\")\n",
    "\n",
    "            i += 1\n",
    "\n",
    "# --------"
   ]
  },
  {
   "cell_type": "code",
   "execution_count": 27,
   "metadata": {
    "pycharm": {
     "name": "#%%\n"
    }
   },
   "outputs": [
    {
     "data": {
      "text/html": [
       "<h2>Control Genomes: Methylation and Coverage Descriptive Statistics</h2>"
      ],
      "text/plain": [
       "<IPython.core.display.HTML object>"
      ]
     },
     "metadata": {},
     "output_type": "display_data"
    },
    {
     "data": {
      "text/html": [
       "<style type=\"text/css\">\n",
       "</style>\n",
       "<table id=\"T_f33eb\" style='display:inline-table'>\n",
       "  <caption>Lambda</caption>\n",
       "  <thead>\n",
       "    <tr>\n",
       "      <th class=\"blank level0\" >&nbsp;</th>\n",
       "      <th id=\"T_f33eb_level0_col0\" class=\"col_heading level0 col0\" >value</th>\n",
       "    </tr>\n",
       "    <tr>\n",
       "      <th class=\"index_name level0\" >metric</th>\n",
       "      <th class=\"blank col0\" >&nbsp;</th>\n",
       "    </tr>\n",
       "  </thead>\n",
       "  <tbody>\n",
       "    <tr>\n",
       "      <th id=\"T_f33eb_level0_row0\" class=\"row_heading level0 row0\" >Percent Methylation:  Mean</th>\n",
       "      <td id=\"T_f33eb_row0_col0\" class=\"data row0 col0\" >0.12%</td>\n",
       "    </tr>\n",
       "    <tr>\n",
       "      <th id=\"T_f33eb_level0_row1\" class=\"row_heading level0 row1\" >Percent Methylation:  Std</th>\n",
       "      <td id=\"T_f33eb_row1_col0\" class=\"data row1 col0\" >1.06%</td>\n",
       "    </tr>\n",
       "    <tr>\n",
       "      <th id=\"T_f33eb_level0_row2\" class=\"row_heading level0 row2\" >Percent Methylation:  Median</th>\n",
       "      <td id=\"T_f33eb_row2_col0\" class=\"data row2 col0\" >0.00%</td>\n",
       "    </tr>\n",
       "    <tr>\n",
       "      <th id=\"T_f33eb_level0_row3\" class=\"row_heading level0 row3\" >Total CpGs: </th>\n",
       "      <td id=\"T_f33eb_row3_col0\" class=\"data row3 col0\" >3,113</td>\n",
       "    </tr>\n",
       "    <tr>\n",
       "      <th id=\"T_f33eb_level0_row4\" class=\"row_heading level0 row4\" >Coverage:  Mean</th>\n",
       "      <td id=\"T_f33eb_row4_col0\" class=\"data row4 col0\" >199.53</td>\n",
       "    </tr>\n",
       "    <tr>\n",
       "      <th id=\"T_f33eb_level0_row5\" class=\"row_heading level0 row5\" >Coverage:  Std</th>\n",
       "      <td id=\"T_f33eb_row5_col0\" class=\"data row5 col0\" >7.05</td>\n",
       "    </tr>\n",
       "    <tr>\n",
       "      <th id=\"T_f33eb_level0_row6\" class=\"row_heading level0 row6\" >Coverage:  Median</th>\n",
       "      <td id=\"T_f33eb_row6_col0\" class=\"data row6 col0\" >200.00</td>\n",
       "    </tr>\n",
       "  </tbody>\n",
       "</table>\n",
       "  <style type=\"text/css\">\n",
       "</style>\n",
       "<table id=\"T_c4400\" style='display:inline-table'>\n",
       "  <caption>pUC19</caption>\n",
       "  <thead>\n",
       "    <tr>\n",
       "      <th class=\"blank level0\" >&nbsp;</th>\n",
       "      <th id=\"T_c4400_level0_col0\" class=\"col_heading level0 col0\" >value</th>\n",
       "    </tr>\n",
       "    <tr>\n",
       "      <th class=\"index_name level0\" >metric</th>\n",
       "      <th class=\"blank col0\" >&nbsp;</th>\n",
       "    </tr>\n",
       "  </thead>\n",
       "  <tbody>\n",
       "    <tr>\n",
       "      <th id=\"T_c4400_level0_row0\" class=\"row_heading level0 row0\" >Percent Methylation:  Mean</th>\n",
       "      <td id=\"T_c4400_row0_col0\" class=\"data row0 col0\" >97.06%</td>\n",
       "    </tr>\n",
       "    <tr>\n",
       "      <th id=\"T_c4400_level0_row1\" class=\"row_heading level0 row1\" >Percent Methylation:  Std</th>\n",
       "      <td id=\"T_c4400_row1_col0\" class=\"data row1 col0\" >1.52%</td>\n",
       "    </tr>\n",
       "    <tr>\n",
       "      <th id=\"T_c4400_level0_row2\" class=\"row_heading level0 row2\" >Percent Methylation:  Median</th>\n",
       "      <td id=\"T_c4400_row2_col0\" class=\"data row2 col0\" >97.00%</td>\n",
       "    </tr>\n",
       "    <tr>\n",
       "      <th id=\"T_c4400_level0_row3\" class=\"row_heading level0 row3\" >Total CpGs: </th>\n",
       "      <td id=\"T_c4400_row3_col0\" class=\"data row3 col0\" >173</td>\n",
       "    </tr>\n",
       "    <tr>\n",
       "      <th id=\"T_c4400_level0_row4\" class=\"row_heading level0 row4\" >Coverage:  Mean</th>\n",
       "      <td id=\"T_c4400_row4_col0\" class=\"data row4 col0\" >199.56</td>\n",
       "    </tr>\n",
       "    <tr>\n",
       "      <th id=\"T_c4400_level0_row5\" class=\"row_heading level0 row5\" >Coverage:  Std</th>\n",
       "      <td id=\"T_c4400_row5_col0\" class=\"data row5 col0\" >4.34</td>\n",
       "    </tr>\n",
       "    <tr>\n",
       "      <th id=\"T_c4400_level0_row6\" class=\"row_heading level0 row6\" >Coverage:  Median</th>\n",
       "      <td id=\"T_c4400_row6_col0\" class=\"data row6 col0\" >200.00</td>\n",
       "    </tr>\n",
       "  </tbody>\n",
       "</table>\n",
       "  "
      ],
      "text/plain": [
       "<IPython.core.display.HTML object>"
      ]
     },
     "metadata": {},
     "output_type": "display_data"
    }
   ],
   "source": [
    "## Control genomes (if exist)\n",
    "# ------------------------------\n",
    "\n",
    "tbl = \"merge_context_desc\"\n",
    "df_desc = pd.read_hdf(input_h5_file, key=tbl)\n",
    "df_desc = pd.DataFrame(df_desc)\n",
    "df_desc = df_desc.reset_index()\n",
    "all_genomes = list(set(df_desc[\"detail\"]))\n",
    "ctrl_genomes = [\"Lambda\", \"pUC19\"]\n",
    "\n",
    "check = all(item in all_genomes for item in ctrl_genomes)\n",
    "\n",
    "if check is True:\n",
    "    display(HTML(\"<h2>\" + \"Control Genomes: Methylation and Coverage Descriptive Statistics\" + \"</h2>\"))\n",
    "\n",
    "    tbl = \"merge_context\"\n",
    "    genome = \"hg\"\n",
    "    df_to_print = pd.DataFrame()\n",
    "    df_table = df_desc[df_desc[\"detail\"] != genome]\n",
    "    df_table = df_table.reset_index()\n",
    "    df_table = format_metric_names(df_table)\n",
    "\n",
    "    df_table[\"stat_type\"] = df_table[\"metric\"].str.extract(r\"([A-Za-z]+)[\\s:]\")\n",
    "    df_table[\"metric\"] = df_table[\"metric\"].str.title()\n",
    "    df_table[\"value\"][df_table[\"stat_type\"] == \"Percent\"] = (\n",
    "        df_table[\"value\"][df_table[\"stat_type\"] == \"Percent\"] / 100\n",
    "    ).map(\"{:,.2%}\".format)\n",
    "    df_table[\"value\"][df_table[\"stat_type\"] == \"Coverage\"] = df_table[\"value\"][df_table[\"stat_type\"] == \"Coverage\"].map(\n",
    "        \"{:,.2f}\".format\n",
    "    )\n",
    "    df_table[\"value\"][df_table[\"stat_type\"] == \"Total\"] = df_table[\"value\"][df_table[\"stat_type\"] == \"Total\"].map(\n",
    "        \"{:,.0f}\".format\n",
    "    )\n",
    "    df_table[\"metric\"] = df_table[\"metric\"].str.replace(r\"Cpgs\", \"CpGs\", regex=True)\n",
    "\n",
    "    table_names = df_table[\"detail\"].unique()\n",
    "    cols = [\"metric\", \"value\", \"detail\"]\n",
    "    df_output = []\n",
    "    df_output = [y for x, y in df_table.groupby(\"detail\")]\n",
    "\n",
    "    df_to_print = []\n",
    "    for line in df_output:\n",
    "        line.index = line[\"metric\"]\n",
    "        df_to_print.append(line[\"value\"].to_frame())\n",
    "\n",
    "    display_side_by_side(df_to_print, table_names)\n",
    "\n",
    "    # --------"
   ]
  },
  {
   "cell_type": "code",
   "execution_count": 28,
   "metadata": {
    "pycharm": {
     "name": "#%%\n"
    }
   },
   "outputs": [],
   "source": [
    "# function for printing bar plots of methylation and coverage at CpGs\n",
    "def plot_bar_distrib(in_table):\n",
    "    i = 0\n",
    "    in_colours = [\"salmon\", \"tomato\"]\n",
    "    curr_genome = \"Human Genome\"\n",
    "    n_rows = in_table.shape[0]\n",
    "    if n_rows > 10:  # noqa: PLR2004\n",
    "        h = 5\n",
    "        w = 13.5\n",
    "        n = 2\n",
    "\n",
    "        in_list_df = [y for x, y in in_table.groupby(in_table[\"metric\"], sort=False)]\n",
    "        f, ax = plt.subplots(1, n, figsize=[w, h])  # noqa: F821\n",
    "        # noqa: F821\n",
    "        for i in range(len(in_list_df)):\n",
    "            currax = ax[i]\n",
    "            y_axis_label = in_list_df[i][\"metric\"].unique()[0]\n",
    "            y_axis_label = y_axis_label.replace(\":\", \"\")\n",
    "            x_axis_label = \"Value Bins\"\n",
    "            curr_title = curr_genome + \": \" + y_axis_label\n",
    "\n",
    "            sns.barplot(data=in_list_df[i], x=\"bin\", y=\"value\", lw=2.5, ax=currax, color=in_colours[i])\n",
    "            currax.set_xlabel(x_axis_label, fontsize=14)\n",
    "            currax.set_ylabel(y_axis_label, fontsize=14)\n",
    "            currax.set_title(curr_title, fontsize=13)\n",
    "            currax.tick_params(labelsize=14)\n",
    "            f.axes[i].tick_params(labelrotation=45)\n",
    "\n",
    "    else:\n",
    "        h = 5\n",
    "        w = 5.5\n",
    "        n = 1\n",
    "\n",
    "        f, ax = plt.subplots(n, n, figsize=[w, h])\n",
    "\n",
    "        y_axis_label = in_table[\"metric\"].unique()[0]\n",
    "        y_axis_label = y_axis_label.replace(\":\", \"\")\n",
    "        curr_title = curr_genome + \": \" + y_axis_label\n",
    "\n",
    "        sns.barplot(data=in_table, x=\"bin\", y=\"value\", lw=2.5, ax=ax, color=in_colours[i])\n",
    "        ax.set_xlabel(\"Value Bins\", fontsize=14)\n",
    "        ax.set_ylabel(y_axis_label, fontsize=14)\n",
    "        ax.set_title(curr_title, fontsize=13)\n",
    "        ax.tick_params(labelsize=14)\n",
    "        plt.xticks(rotation=45)\n",
    "\n",
    "\n",
    "# --------"
   ]
  },
  {
   "cell_type": "code",
   "execution_count": 29,
   "metadata": {
    "pycharm": {
     "name": "#%%\n"
    }
   },
   "outputs": [],
   "source": [
    "# print details of mergeCOntext plots of CpG Methylation and Coverage\n",
    "# -----------------------------\n",
    "# main statistics table\n",
    "# --------------------------\n",
    "tbl = \"merge_context_hist\"\n",
    "genome = \"hg\"\n",
    "df_hist = pd.read_hdf(input_h5_file, key=tbl)\n",
    "df_hist = pd.DataFrame(df_hist)\n",
    "df_hist = df_hist.reset_index()\n",
    "df_hist = df_hist[df_hist[\"detail\"] == genome]\n",
    "df_hist = parse_metric_names(df_hist)\n",
    "df_hist = format_metric_names(df_hist)\n",
    "df_hist[\"stat_type\"] = df_hist[\"metric\"].str.extract(r\"([A-Za-z]+):\")"
   ]
  },
  {
   "cell_type": "markdown",
   "metadata": {},
   "source": [
    "## Human Genome: Additional Details of CpG Methylation and Coverage"
   ]
  },
  {
   "cell_type": "code",
   "execution_count": 30,
   "metadata": {},
   "outputs": [
    {
     "data": {
      "image/png": "[encoded data removed]",
      "text/plain": [
       "<Figure size 550x500 with 1 Axes>"
      ]
     },
     "metadata": {},
     "output_type": "display_data"
    },
    {
     "data": {
      "image/png": "[encoded data removed]",
      "text/plain": [
       "<Figure size 1350x500 with 2 Axes>"
      ]
     },
     "metadata": {},
     "output_type": "display_data"
    }
   ],
   "source": [
    "list_df = [y for x, y in df_hist.groupby(df_hist[\"stat_type\"], sort=False)]\n",
    "\n",
    "for df_to_plot in list_df:\n",
    "    plot_bar_distrib(df_to_plot)"
   ]
  },
  {
   "cell_type": "markdown",
   "metadata": {},
   "source": [
    "## Human Genome: Values of CpG Methylation and Coverage"
   ]
  },
  {
   "cell_type": "code",
   "execution_count": 31,
   "metadata": {},
   "outputs": [
    {
     "data": {
      "text/html": [
       "<style type=\"text/css\">\n",
       "</style>\n",
       "<table id=\"T_8a74a\" style='display:inline-table'>\n",
       "  <caption>Percent Methylation </caption>\n",
       "  <thead>\n",
       "    <tr>\n",
       "      <th class=\"blank level0\" >&nbsp;</th>\n",
       "      <th id=\"T_8a74a_level0_col0\" class=\"col_heading level0 col0\" >value</th>\n",
       "    </tr>\n",
       "    <tr>\n",
       "      <th class=\"index_name level0\" >bin</th>\n",
       "      <th class=\"blank col0\" >&nbsp;</th>\n",
       "    </tr>\n",
       "  </thead>\n",
       "  <tbody>\n",
       "    <tr>\n",
       "      <th id=\"T_8a74a_level0_row0\" class=\"row_heading level0 row0\" >10</th>\n",
       "      <td id=\"T_8a74a_row0_col0\" class=\"data row0 col0\" >264</td>\n",
       "    </tr>\n",
       "    <tr>\n",
       "      <th id=\"T_8a74a_level0_row1\" class=\"row_heading level0 row1\" >20</th>\n",
       "      <td id=\"T_8a74a_row1_col0\" class=\"data row1 col0\" >45</td>\n",
       "    </tr>\n",
       "    <tr>\n",
       "      <th id=\"T_8a74a_level0_row2\" class=\"row_heading level0 row2\" >30</th>\n",
       "      <td id=\"T_8a74a_row2_col0\" class=\"data row2 col0\" >99</td>\n",
       "    </tr>\n",
       "    <tr>\n",
       "      <th id=\"T_8a74a_level0_row3\" class=\"row_heading level0 row3\" >40</th>\n",
       "      <td id=\"T_8a74a_row3_col0\" class=\"data row3 col0\" >132</td>\n",
       "    </tr>\n",
       "    <tr>\n",
       "      <th id=\"T_8a74a_level0_row4\" class=\"row_heading level0 row4\" >50</th>\n",
       "      <td id=\"T_8a74a_row4_col0\" class=\"data row4 col0\" >126</td>\n",
       "    </tr>\n",
       "    <tr>\n",
       "      <th id=\"T_8a74a_level0_row5\" class=\"row_heading level0 row5\" >60</th>\n",
       "      <td id=\"T_8a74a_row5_col0\" class=\"data row5 col0\" >331</td>\n",
       "    </tr>\n",
       "    <tr>\n",
       "      <th id=\"T_8a74a_level0_row6\" class=\"row_heading level0 row6\" >70</th>\n",
       "      <td id=\"T_8a74a_row6_col0\" class=\"data row6 col0\" >429</td>\n",
       "    </tr>\n",
       "    <tr>\n",
       "      <th id=\"T_8a74a_level0_row7\" class=\"row_heading level0 row7\" >80</th>\n",
       "      <td id=\"T_8a74a_row7_col0\" class=\"data row7 col0\" >572</td>\n",
       "    </tr>\n",
       "    <tr>\n",
       "      <th id=\"T_8a74a_level0_row8\" class=\"row_heading level0 row8\" >90</th>\n",
       "      <td id=\"T_8a74a_row8_col0\" class=\"data row8 col0\" >1,017</td>\n",
       "    </tr>\n",
       "    <tr>\n",
       "      <th id=\"T_8a74a_level0_row9\" class=\"row_heading level0 row9\" >100</th>\n",
       "      <td id=\"T_8a74a_row9_col0\" class=\"data row9 col0\" >1,984</td>\n",
       "    </tr>\n",
       "  </tbody>\n",
       "</table>\n",
       "  <style type=\"text/css\">\n",
       "</style>\n",
       "<table id=\"T_e3737\" style='display:inline-table'>\n",
       "  <caption>Coverage </caption>\n",
       "  <thead>\n",
       "    <tr>\n",
       "      <th class=\"blank level0\" >&nbsp;</th>\n",
       "      <th id=\"T_e3737_level0_col0\" class=\"col_heading level0 col0\" >value</th>\n",
       "    </tr>\n",
       "    <tr>\n",
       "      <th class=\"index_name level0\" >bin</th>\n",
       "      <th class=\"blank col0\" >&nbsp;</th>\n",
       "    </tr>\n",
       "  </thead>\n",
       "  <tbody>\n",
       "    <tr>\n",
       "      <th id=\"T_e3737_level0_row0\" class=\"row_heading level0 row0\" >10</th>\n",
       "      <td id=\"T_e3737_row0_col0\" class=\"data row0 col0\" >1,360</td>\n",
       "    </tr>\n",
       "    <tr>\n",
       "      <th id=\"T_e3737_level0_row1\" class=\"row_heading level0 row1\" >20</th>\n",
       "      <td id=\"T_e3737_row1_col0\" class=\"data row1 col0\" >751</td>\n",
       "    </tr>\n",
       "    <tr>\n",
       "      <th id=\"T_e3737_level0_row2\" class=\"row_heading level0 row2\" >30</th>\n",
       "      <td id=\"T_e3737_row2_col0\" class=\"data row2 col0\" >714</td>\n",
       "    </tr>\n",
       "    <tr>\n",
       "      <th id=\"T_e3737_level0_row3\" class=\"row_heading level0 row3\" >40</th>\n",
       "      <td id=\"T_e3737_row3_col0\" class=\"data row3 col0\" >576</td>\n",
       "    </tr>\n",
       "    <tr>\n",
       "      <th id=\"T_e3737_level0_row4\" class=\"row_heading level0 row4\" >50</th>\n",
       "      <td id=\"T_e3737_row4_col0\" class=\"data row4 col0\" >425</td>\n",
       "    </tr>\n",
       "    <tr>\n",
       "      <th id=\"T_e3737_level0_row5\" class=\"row_heading level0 row5\" >60</th>\n",
       "      <td id=\"T_e3737_row5_col0\" class=\"data row5 col0\" >325</td>\n",
       "    </tr>\n",
       "    <tr>\n",
       "      <th id=\"T_e3737_level0_row6\" class=\"row_heading level0 row6\" >70</th>\n",
       "      <td id=\"T_e3737_row6_col0\" class=\"data row6 col0\" >222</td>\n",
       "    </tr>\n",
       "    <tr>\n",
       "      <th id=\"T_e3737_level0_row7\" class=\"row_heading level0 row7\" >80</th>\n",
       "      <td id=\"T_e3737_row7_col0\" class=\"data row7 col0\" >154</td>\n",
       "    </tr>\n",
       "    <tr>\n",
       "      <th id=\"T_e3737_level0_row8\" class=\"row_heading level0 row8\" >90</th>\n",
       "      <td id=\"T_e3737_row8_col0\" class=\"data row8 col0\" >109</td>\n",
       "    </tr>\n",
       "    <tr>\n",
       "      <th id=\"T_e3737_level0_row9\" class=\"row_heading level0 row9\" >100</th>\n",
       "      <td id=\"T_e3737_row9_col0\" class=\"data row9 col0\" >71</td>\n",
       "    </tr>\n",
       "    <tr>\n",
       "      <th id=\"T_e3737_level0_row10\" class=\"row_heading level0 row10\" >110</th>\n",
       "      <td id=\"T_e3737_row10_col0\" class=\"data row10 col0\" >48</td>\n",
       "    </tr>\n",
       "    <tr>\n",
       "      <th id=\"T_e3737_level0_row11\" class=\"row_heading level0 row11\" >120</th>\n",
       "      <td id=\"T_e3737_row11_col0\" class=\"data row11 col0\" >38</td>\n",
       "    </tr>\n",
       "    <tr>\n",
       "      <th id=\"T_e3737_level0_row12\" class=\"row_heading level0 row12\" >130</th>\n",
       "      <td id=\"T_e3737_row12_col0\" class=\"data row12 col0\" >51</td>\n",
       "    </tr>\n",
       "    <tr>\n",
       "      <th id=\"T_e3737_level0_row13\" class=\"row_heading level0 row13\" >140</th>\n",
       "      <td id=\"T_e3737_row13_col0\" class=\"data row13 col0\" >26</td>\n",
       "    </tr>\n",
       "    <tr>\n",
       "      <th id=\"T_e3737_level0_row14\" class=\"row_heading level0 row14\" >150</th>\n",
       "      <td id=\"T_e3737_row14_col0\" class=\"data row14 col0\" >17</td>\n",
       "    </tr>\n",
       "    <tr>\n",
       "      <th id=\"T_e3737_level0_row15\" class=\"row_heading level0 row15\" >160</th>\n",
       "      <td id=\"T_e3737_row15_col0\" class=\"data row15 col0\" >6</td>\n",
       "    </tr>\n",
       "    <tr>\n",
       "      <th id=\"T_e3737_level0_row16\" class=\"row_heading level0 row16\" >170</th>\n",
       "      <td id=\"T_e3737_row16_col0\" class=\"data row16 col0\" >4</td>\n",
       "    </tr>\n",
       "    <tr>\n",
       "      <th id=\"T_e3737_level0_row17\" class=\"row_heading level0 row17\" >180</th>\n",
       "      <td id=\"T_e3737_row17_col0\" class=\"data row17 col0\" >10</td>\n",
       "    </tr>\n",
       "    <tr>\n",
       "      <th id=\"T_e3737_level0_row18\" class=\"row_heading level0 row18\" >190</th>\n",
       "      <td id=\"T_e3737_row18_col0\" class=\"data row18 col0\" >5</td>\n",
       "    </tr>\n",
       "    <tr>\n",
       "      <th id=\"T_e3737_level0_row19\" class=\"row_heading level0 row19\" >200</th>\n",
       "      <td id=\"T_e3737_row19_col0\" class=\"data row19 col0\" >87</td>\n",
       "    </tr>\n",
       "  </tbody>\n",
       "</table>\n",
       "  <style type=\"text/css\">\n",
       "</style>\n",
       "<table id=\"T_71da0\" style='display:inline-table'>\n",
       "  <caption>Cumulative Coverage </caption>\n",
       "  <thead>\n",
       "    <tr>\n",
       "      <th class=\"blank level0\" >&nbsp;</th>\n",
       "      <th id=\"T_71da0_level0_col0\" class=\"col_heading level0 col0\" >value</th>\n",
       "    </tr>\n",
       "    <tr>\n",
       "      <th class=\"index_name level0\" >bin</th>\n",
       "      <th class=\"blank col0\" >&nbsp;</th>\n",
       "    </tr>\n",
       "  </thead>\n",
       "  <tbody>\n",
       "    <tr>\n",
       "      <th id=\"T_71da0_level0_row0\" class=\"row_heading level0 row0\" >10</th>\n",
       "      <td id=\"T_71da0_row0_col0\" class=\"data row0 col0\" >27.21%</td>\n",
       "    </tr>\n",
       "    <tr>\n",
       "      <th id=\"T_71da0_level0_row1\" class=\"row_heading level0 row1\" >20</th>\n",
       "      <td id=\"T_71da0_row1_col0\" class=\"data row1 col0\" >42.23%</td>\n",
       "    </tr>\n",
       "    <tr>\n",
       "      <th id=\"T_71da0_level0_row2\" class=\"row_heading level0 row2\" >30</th>\n",
       "      <td id=\"T_71da0_row2_col0\" class=\"data row2 col0\" >56.51%</td>\n",
       "    </tr>\n",
       "    <tr>\n",
       "      <th id=\"T_71da0_level0_row3\" class=\"row_heading level0 row3\" >40</th>\n",
       "      <td id=\"T_71da0_row3_col0\" class=\"data row3 col0\" >68.03%</td>\n",
       "    </tr>\n",
       "    <tr>\n",
       "      <th id=\"T_71da0_level0_row4\" class=\"row_heading level0 row4\" >50</th>\n",
       "      <td id=\"T_71da0_row4_col0\" class=\"data row4 col0\" >76.54%</td>\n",
       "    </tr>\n",
       "    <tr>\n",
       "      <th id=\"T_71da0_level0_row5\" class=\"row_heading level0 row5\" >60</th>\n",
       "      <td id=\"T_71da0_row5_col0\" class=\"data row5 col0\" >83.04%</td>\n",
       "    </tr>\n",
       "    <tr>\n",
       "      <th id=\"T_71da0_level0_row6\" class=\"row_heading level0 row6\" >70</th>\n",
       "      <td id=\"T_71da0_row6_col0\" class=\"data row6 col0\" >87.48%</td>\n",
       "    </tr>\n",
       "    <tr>\n",
       "      <th id=\"T_71da0_level0_row7\" class=\"row_heading level0 row7\" >80</th>\n",
       "      <td id=\"T_71da0_row7_col0\" class=\"data row7 col0\" >90.56%</td>\n",
       "    </tr>\n",
       "    <tr>\n",
       "      <th id=\"T_71da0_level0_row8\" class=\"row_heading level0 row8\" >90</th>\n",
       "      <td id=\"T_71da0_row8_col0\" class=\"data row8 col0\" >92.74%</td>\n",
       "    </tr>\n",
       "    <tr>\n",
       "      <th id=\"T_71da0_level0_row9\" class=\"row_heading level0 row9\" >100</th>\n",
       "      <td id=\"T_71da0_row9_col0\" class=\"data row9 col0\" >94.16%</td>\n",
       "    </tr>\n",
       "    <tr>\n",
       "      <th id=\"T_71da0_level0_row10\" class=\"row_heading level0 row10\" >110</th>\n",
       "      <td id=\"T_71da0_row10_col0\" class=\"data row10 col0\" >95.12%</td>\n",
       "    </tr>\n",
       "    <tr>\n",
       "      <th id=\"T_71da0_level0_row11\" class=\"row_heading level0 row11\" >120</th>\n",
       "      <td id=\"T_71da0_row11_col0\" class=\"data row11 col0\" >95.88%</td>\n",
       "    </tr>\n",
       "    <tr>\n",
       "      <th id=\"T_71da0_level0_row12\" class=\"row_heading level0 row12\" >130</th>\n",
       "      <td id=\"T_71da0_row12_col0\" class=\"data row12 col0\" >96.90%</td>\n",
       "    </tr>\n",
       "    <tr>\n",
       "      <th id=\"T_71da0_level0_row13\" class=\"row_heading level0 row13\" >140</th>\n",
       "      <td id=\"T_71da0_row13_col0\" class=\"data row13 col0\" >97.42%</td>\n",
       "    </tr>\n",
       "    <tr>\n",
       "      <th id=\"T_71da0_level0_row14\" class=\"row_heading level0 row14\" >150</th>\n",
       "      <td id=\"T_71da0_row14_col0\" class=\"data row14 col0\" >97.76%</td>\n",
       "    </tr>\n",
       "    <tr>\n",
       "      <th id=\"T_71da0_level0_row15\" class=\"row_heading level0 row15\" >160</th>\n",
       "      <td id=\"T_71da0_row15_col0\" class=\"data row15 col0\" >97.88%</td>\n",
       "    </tr>\n",
       "    <tr>\n",
       "      <th id=\"T_71da0_level0_row16\" class=\"row_heading level0 row16\" >170</th>\n",
       "      <td id=\"T_71da0_row16_col0\" class=\"data row16 col0\" >97.96%</td>\n",
       "    </tr>\n",
       "    <tr>\n",
       "      <th id=\"T_71da0_level0_row17\" class=\"row_heading level0 row17\" >180</th>\n",
       "      <td id=\"T_71da0_row17_col0\" class=\"data row17 col0\" >98.16%</td>\n",
       "    </tr>\n",
       "    <tr>\n",
       "      <th id=\"T_71da0_level0_row18\" class=\"row_heading level0 row18\" >190</th>\n",
       "      <td id=\"T_71da0_row18_col0\" class=\"data row18 col0\" >98.26%</td>\n",
       "    </tr>\n",
       "    <tr>\n",
       "      <th id=\"T_71da0_level0_row19\" class=\"row_heading level0 row19\" >200</th>\n",
       "      <td id=\"T_71da0_row19_col0\" class=\"data row19 col0\" >100.00%</td>\n",
       "    </tr>\n",
       "  </tbody>\n",
       "</table>\n",
       "  "
      ],
      "text/plain": [
       "<IPython.core.display.HTML object>"
      ]
     },
     "metadata": {},
     "output_type": "display_data"
    }
   ],
   "source": [
    "# print details of figures\n",
    "# --------------------------\n",
    "\n",
    "list_df = [y for x, y in df_hist.groupby(df_hist[\"metric\"], sort=False)]\n",
    "\n",
    "df_to_print = []\n",
    "temp_tables = []\n",
    "for i, sub_df in enumerate(list_df):\n",
    "    sub_df = sub_df.reset_index()  # noqa: PLW2901\n",
    "    if i < 2:  # noqa: PLR2004\n",
    "        sub_df[\"value\"] = sub_df[\"value\"].map(\"{:,.0f}\".format)\n",
    "    else:\n",
    "        sub_df[\"value\"] = sub_df[\"value\"].map(\"{:,.2%}\".format)\n",
    "    temp_tables.append(sub_df[\"metric\"][0].replace(\":\", \"\"))\n",
    "    sub_df.index = sub_df[\"bin\"]\n",
    "    df_to_print.append(sub_df[\"value\"].to_frame())\n",
    "\n",
    "\n",
    "display_side_by_side(df_to_print, temp_tables)\n",
    "# -------"
   ]
  }
 ],
 "metadata": {
  "kernelspec": {
   "display_name": ".venv",
   "language": "python",
   "name": "python3"
  },
  "language_info": {
   "codemirror_mode": {
    "name": "ipython",
    "version": 3
   },
   "file_extension": ".py",
   "mimetype": "text/x-python",
   "name": "python",
   "nbconvert_exporter": "python",
   "pygments_lexer": "ipython3",
   "version": "3.11.11"
  }
 },
 "nbformat": 4,
 "nbformat_minor": 4
}
