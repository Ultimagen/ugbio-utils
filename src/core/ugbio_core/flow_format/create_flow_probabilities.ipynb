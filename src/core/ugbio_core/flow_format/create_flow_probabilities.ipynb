{
 "cells": [
  {
   "cell_type": "markdown",
   "metadata": {},
   "source": [
    "# Example on loading probabilities output from the cram file"
   ]
  },
  {
   "cell_type": "markdown",
   "metadata": {},
   "source": [
    "For installation use the following pip install, required python 3.11\n",
    "\n"
   ]
  },
  {
   "cell_type": "code",
   "execution_count": 2,
   "metadata": {},
   "outputs": [],
   "source": [
    "# pip install ugbio_core[vcfbed]"
   ]
  },
  {
   "cell_type": "code",
   "execution_count": 3,
   "metadata": {},
   "outputs": [],
   "source": [
    "import pysam\n",
    "import numpy as np\n",
    "import itertools\n",
    "\n",
    "import ugbio_core.flow_format.flow_based_read as fbr\n",
    "from ugbio_core.flow_format.error_model import key2base \n",
    "\n"
   ]
  },
  {
   "cell_type": "markdown",
   "metadata": {},
   "source": [
    "## Load cram file \n",
    "\n",
    "This load the sam file and pull the probabilites "
   ]
  },
  {
   "cell_type": "code",
   "execution_count": 4,
   "metadata": {},
   "outputs": [],
   "source": [
    "# !aws s3 cp s3://ultimagen-workflow-resources-us-east-1/test_data/cram_example/cram_example.cram /data/Runs/examples/cram_example.cram\n",
    "\n",
    "cram_file = '/data/Runs/examples/cram_example.cram'\n",
    "pysam.index(cram_file)\n",
    "alignment_file = pysam.AlignmentFile(cram_file, 'r')\n",
    "prob_i = np.zeros((1000, 436, 21))\n",
    "sequences = []\n",
    "\n",
    "for i, record in enumerate(itertools.islice(alignment_file,0,1000)):\n",
    "    # Process each record\n",
    "        flow_read = fbr.FlowBasedRead.from_sam_record(record, max_hmer_size=20)\n",
    "        L = flow_read._flow_matrix.shape[1]\n",
    "        prob_i[i,:L] = flow_read._flow_matrix.transpose(1, 0)\n",
    "\n",
    "        sequences.append(record.seq)"
   ]
  },
  {
   "cell_type": "markdown",
   "metadata": {},
   "source": [
    "## Validate the data created"
   ]
  },
  {
   "cell_type": "code",
   "execution_count": 4,
   "metadata": {},
   "outputs": [
    {
     "name": "stdout",
     "output_type": "stream",
     "text": [
      "sequence of the first 100 bases of read number  10\n",
      "CAAAGATAAATGAGCAGGCAAGCTGGCTAGAAAACCACTAAGGGTATTTATTCTTTAAAGAATCTTTACAGGGTCAAAGAAGAATGGGTCTTAACTGGCT\n",
      "called bases of the first 100 bases of read number  10\n",
      "AAAGATAAATGAGCAGGCAAGCTGGCTAGAAAACCACTAAGGGTATTTATTCTTTAAAGAATCTTTACAGGGTCAAAGAAGAATGGGTCTTAACTGGCTA\n"
     ]
    }
   ],
   "source": [
    "i = 10\n",
    "\n",
    "print('sequence of the first 100 bases of read number ', i)\n",
    "print( sequences[i][:100] )\n",
    "\n",
    "# load probability vector of the i'th read\n",
    "\n",
    "probability_flow_i = prob_i[i]\n",
    "\n",
    "# convert probability vector to hmmers\n",
    "called_hmers = probability_flow_i.argmax(axis=-1)\n",
    "\n",
    "# convert hmmers to bases\n",
    "called_bases = key2base(called_hmers)\n",
    "\n",
    "print('called bases of the first 100 bases of read number ', i)\n",
    "print( ''.join(called_bases[:100]) )"
   ]
  },
  {
   "cell_type": "markdown",
   "metadata": {},
   "source": [
    "There is typical issue typical of the first cycle in the transformation, miss correct probability in the first cycle.\n",
    "\n"
   ]
  }
 ],
 "metadata": {
  "kernelspec": {
   "display_name": "bio_modal",
   "language": "python",
   "name": "python3"
  },
  "language_info": {
   "codemirror_mode": {
    "name": "ipython",
    "version": 3
   },
   "file_extension": ".py",
   "mimetype": "text/x-python",
   "name": "python",
   "nbconvert_exporter": "python",
   "pygments_lexer": "ipython3",
   "version": "3.11.11"
  }
 },
 "nbformat": 4,
 "nbformat_minor": 2
}
