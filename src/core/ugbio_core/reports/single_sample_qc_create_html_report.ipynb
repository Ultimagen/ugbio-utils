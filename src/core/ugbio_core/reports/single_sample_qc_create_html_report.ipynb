{
 "cells": [
  {
   "cell_type": "code",
   "execution_count": null,
   "metadata": {
    "pycharm": {
     "is_executing": true,
     "name": "#%%\n"
    }
   },
   "outputs": [],
   "source": [
    "import os\n",
    "\n",
    "import h5py\n",
    "import pandas as pd\n",
    "from IPython.display import HTML\n",
    "from IPython.display import display as ipy_display"
   ]
  },
  {
   "cell_type": "code",
   "execution_count": null,
   "metadata": {
    "pycharm": {
     "is_executing": true,
     "name": "#%%\n"
    }
   },
   "outputs": [],
   "source": [
    "pd.set_option(\"display.max_rows\", None)\n",
    "pd.set_option(\"display.max_colwidth\", 0)\n",
    "pd.options.display.float_format = \"{:,.2f}\".format"
   ]
  },
  {
   "cell_type": "code",
   "execution_count": null,
   "metadata": {
    "pycharm": {
     "name": "#%%\n"
    }
   },
   "outputs": [],
   "source": [
    "from IPython.core.interactiveshell import InteractiveShell\n",
    "\n",
    "InteractiveShell.ast_node_interactivity = \"all\""
   ]
  },
  {
   "cell_type": "code",
   "execution_count": null,
   "metadata": {
    "pycharm": {
     "name": "#%%\n"
    },
    "tags": [
     "parameters"
    ]
   },
   "outputs": [],
   "source": [
    "top_metrics_file = \"top_metrics_for_tbl.csv\"\n",
    "input_h5_file = \"\"\n",
    "input_base_file_name = \"\""
   ]
  },
  {
   "cell_type": "code",
   "execution_count": null,
   "metadata": {
    "pycharm": {
     "name": "#%%\n"
    }
   },
   "outputs": [],
   "source": [
    "if not os.path.isfile(top_metrics_file):\n",
    "    raise ValueError(f\"Input {top_metrics_file} does not exist\")"
   ]
  },
  {
   "cell_type": "code",
   "execution_count": null,
   "metadata": {},
   "outputs": [],
   "source": [
    "dict_features = {row.iloc[0]: row.iloc[1] for _, row in pd.read_csv(top_metrics_file).iterrows()}\n",
    "df_features = pd.read_csv(top_metrics_file)\n",
    "list_metrics = list(set(df_features[\"metric\"]))"
   ]
  },
  {
   "cell_type": "code",
   "execution_count": null,
   "metadata": {
    "pycharm": {
     "name": "#%%\n"
    }
   },
   "outputs": [],
   "source": [
    "# get Keys within the H5 file\n",
    "f = h5py.File(input_h5_file, \"r\")\n",
    "list_keys = list(f.keys())\n",
    "hist_list_keys = [i for i in list_keys if i.startswith(\"histogram_\")]\n",
    "tbl_list_keys = pd.DataFrame(list(set(list_keys) - set(hist_list_keys)))\n",
    "tbl_list_keys.columns = [\"metric\"]\n",
    "del list_keys\n",
    "\n",
    "# create table merging top required metrics to display and input provided\n",
    "# ....................\n",
    "tbl_top_values = df_features.merge(tbl_list_keys, on=\"metric\", how=\"inner\")"
   ]
  },
  {
   "cell_type": "code",
   "execution_count": null,
   "metadata": {
    "pycharm": {
     "name": "#%%\n"
    }
   },
   "outputs": [],
   "source": [
    "HTML(\"<b>\" + \"\" + \"</b>\")\n",
    "HTML(\"<hr/>\")\n",
    "HTML('<h2 style=\"font-size:20px;\">' + \"Input parameters\" + \"</h2>\")\n",
    "HTML(\"<hr/>\")\n",
    "HTML(\"<b>\" + \"\" + \"</b>\")"
   ]
  },
  {
   "cell_type": "code",
   "execution_count": null,
   "metadata": {},
   "outputs": [],
   "source": [
    "to_print_sample_info = pd.DataFrame(\n",
    "    data={\"value\": [input_base_file_name, str(input_h5_file)]}, index=[\"Sample name\", \"h5 file\"]\n",
    ")\n",
    "\n",
    "to_print_sample_info[\"value\"] = to_print_sample_info[\"value\"].str.wrap(100)\n",
    "\n",
    "\n",
    "def wrap_df_text(df):\n",
    "    return ipy_display(HTML(df.to_html().replace(\"\\\\n\", \"<br>\")))\n",
    "\n",
    "\n",
    "wrap_df_text(to_print_sample_info.style.set_properties(**{\"text-align\": \"left\"}))"
   ]
  },
  {
   "cell_type": "code",
   "execution_count": null,
   "metadata": {},
   "outputs": [],
   "source": [
    "HTML(\"<b>\" + \"\" + \"</b>\")\n",
    "HTML(\"<hr/>\")\n",
    "HTML('<h2 style=\"font-size:20px;\">' + \"Summary View: Main Metrics\" + \"</h2>\")\n",
    "HTML(\"<hr/>\")\n",
    "HTML(\"<b>\" + \"\" + \"</b>\")"
   ]
  },
  {
   "cell_type": "code",
   "execution_count": null,
   "metadata": {
    "pycharm": {
     "name": "#%%\n"
    }
   },
   "outputs": [],
   "source": [
    "separator = \"___\"\n",
    "to_print = pd.DataFrame()\n",
    "\n",
    "tbl_top = pd.DataFrame()\n",
    "for temp_metric in tbl_top_values[\"metric\"].unique():\n",
    "    list_top_tbl = sub_top_tbl = pd.DataFrame()\n",
    "    sub_top_tbl = tbl_top_values[tbl_top_values[\"metric\"] == temp_metric]\n",
    "    df_h5_tbl = pd.read_hdf(input_h5_file, temp_metric).T\n",
    "    df_h5_tbl = df_h5_tbl.reset_index()\n",
    "\n",
    "    # stats_coverage is a multiindex dataframe\n",
    "    if temp_metric.startswith(\"stats\"):\n",
    "        df_h5_tbl[\"metric\"] = df_h5_tbl[\"level_0\"] + separator + df_h5_tbl[\"level_1\"]\n",
    "        df_h5_tbl = df_h5_tbl.drop(columns=[\"level_0\", \"level_1\"]).copy()\n",
    "        df_h5_tbl.columns = [\"value\", \"key\"]\n",
    "        df_h5_tbl = df_h5_tbl[[\"key\", \"value\"]]\n",
    "        list_top_tbl = df_h5_tbl.merge(sub_top_tbl, on=\"key\", how=\"inner\")\n",
    "        to_print = pd.concat((to_print, list_top_tbl))\n",
    "\n",
    "    else:\n",
    "        df_h5_tbl.columns = [\"key\", \"value\"]\n",
    "        list_top_tbl = df_h5_tbl.merge(sub_top_tbl, on=\"key\", how=\"inner\")\n",
    "        to_print = pd.concat((to_print, list_top_tbl))\n",
    "\n",
    "to_print.index = to_print[\"key\"]\n",
    "to_print = to_print.rename({c: c.replace(\"PCT_\", \"% \") for c in to_print.index})\n",
    "to_print = to_print.rename({c: c.replace(\"PERCENT_\", \"% \") for c in to_print.index})\n",
    "to_print.index.name = None\n",
    "to_print = to_print.rename(columns={\"value\": \"\"})\n",
    "ipy_display(to_print[\"\"].to_frame())"
   ]
  },
  {
   "cell_type": "code",
   "execution_count": null,
   "metadata": {
    "pycharm": {
     "name": "#%%\n"
    }
   },
   "outputs": [],
   "source": [
    "HTML(\"<b>\" + \"\" + \"</b>\")\n",
    "HTML(\"<hr/>\")\n",
    "HTML('<h2 style=\"font-size:20px;\">' + \"Detailed View: All Metrics\" + \"</h2>\")\n",
    "HTML(\"<hr/>\")\n",
    "HTML(\"<b>\" + \"\" + \"</b>\")"
   ]
  },
  {
   "cell_type": "code",
   "execution_count": null,
   "metadata": {
    "pycharm": {
     "name": "#%%\n"
    }
   },
   "outputs": [],
   "source": [
    "to_print = pd.DataFrame()\n",
    "sorted_keys = tbl_list_keys[\"metric\"].sort_values()\n",
    "\n",
    "for tbl_key in sorted_keys:\n",
    "    HTML(\"<br>\" + \"<br>\" + \"<b>\" + \"Metric type: \" + tbl_key + \"</b>\" + \"<br>\")\n",
    "    to_print = pd.read_hdf(input_h5_file, tbl_key).T\n",
    "    to_print = to_print.rename(columns={0: \"\"})\n",
    "    if not isinstance(to_print.index[0], tuple):\n",
    "        to_print = to_print.rename({c: c.replace(\"PCT_\", \"% \") for c in to_print.index})\n",
    "        to_print = to_print.rename({c: c.replace(\"PERCENT_\", \"% \") for c in to_print.index})\n",
    "    else:\n",
    "        to_print.index = to_print.index.set_levels(to_print.index.levels[1].str.replace(\"percent_\", \"% \"), level=1)\n",
    "    ipy_display(to_print)"
   ]
  }
 ],
 "metadata": {
  "celltoolbar": "Tags",
  "kernelspec": {
   "display_name": "Python 3",
   "language": "python",
   "name": "python3"
  },
  "language_info": {
   "codemirror_mode": {
    "name": "ipython",
    "version": 3
   },
   "file_extension": ".py",
   "mimetype": "text/x-python",
   "name": "python",
   "nbconvert_exporter": "python",
   "pygments_lexer": "ipython3",
   "version": "3.8.17"
  }
 },
 "nbformat": 4,
 "nbformat_minor": 4
}
